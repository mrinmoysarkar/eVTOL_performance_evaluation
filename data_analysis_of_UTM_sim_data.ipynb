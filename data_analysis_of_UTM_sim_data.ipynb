{
 "cells": [
  {
   "cell_type": "code",
   "execution_count": 35,
   "id": "c6ea8f8d",
   "metadata": {},
   "outputs": [],
   "source": [
    "import pandas as pd\n",
    "import matplotlib.pyplot as plt\n",
    "import numpy as np"
   ]
  },
  {
   "cell_type": "code",
   "execution_count": 36,
   "id": "17d5cc68",
   "metadata": {},
   "outputs": [],
   "source": [
    "data_df = pd.read_csv('./logs/all_UTM_sim_data.csv')"
   ]
  },
  {
   "cell_type": "code",
   "execution_count": 37,
   "id": "29963e7e",
   "metadata": {},
   "outputs": [
    {
     "data": {
      "text/html": [
       "<div>\n",
       "<style scoped>\n",
       "    .dataframe tbody tr th:only-of-type {\n",
       "        vertical-align: middle;\n",
       "    }\n",
       "\n",
       "    .dataframe tbody tr th {\n",
       "        vertical-align: top;\n",
       "    }\n",
       "\n",
       "    .dataframe thead th {\n",
       "        text-align: right;\n",
       "    }\n",
       "</style>\n",
       "<table border=\"1\" class=\"dataframe\">\n",
       "  <thead>\n",
       "    <tr style=\"text-align: right;\">\n",
       "      <th></th>\n",
       "      <th>agent_id</th>\n",
       "      <th>eVTOL_type</th>\n",
       "      <th>simulation_type</th>\n",
       "      <th>algorithm_type</th>\n",
       "      <th>Number_of_conflicts</th>\n",
       "      <th>Desired_time_of_departure</th>\n",
       "      <th>Actual_time_of_departure</th>\n",
       "      <th>Ideal_time_of_arrival</th>\n",
       "      <th>Actual_time_of_arrival</th>\n",
       "      <th>Time_required_for_preflight_calculation</th>\n",
       "      <th>Average_time_to_plan_avoidance</th>\n",
       "      <th>Total_planning_time</th>\n",
       "      <th>Location_of_weather_statistics</th>\n",
       "    </tr>\n",
       "  </thead>\n",
       "  <tbody>\n",
       "    <tr>\n",
       "      <th>0</th>\n",
       "      <td>1</td>\n",
       "      <td>lift_and_cruse</td>\n",
       "      <td>reactive</td>\n",
       "      <td>MVP_Bluesky</td>\n",
       "      <td>0</td>\n",
       "      <td>100.0</td>\n",
       "      <td>100.0</td>\n",
       "      <td>808.673469</td>\n",
       "      <td>808.673469</td>\n",
       "      <td>NaN</td>\n",
       "      <td>0.000173</td>\n",
       "      <td>0.023846</td>\n",
       "      <td>NaN</td>\n",
       "    </tr>\n",
       "    <tr>\n",
       "      <th>1</th>\n",
       "      <td>2</td>\n",
       "      <td>lift_and_cruse</td>\n",
       "      <td>reactive</td>\n",
       "      <td>MVP_Bluesky</td>\n",
       "      <td>0</td>\n",
       "      <td>180.0</td>\n",
       "      <td>180.0</td>\n",
       "      <td>888.673469</td>\n",
       "      <td>888.673469</td>\n",
       "      <td>NaN</td>\n",
       "      <td>0.000178</td>\n",
       "      <td>0.024561</td>\n",
       "      <td>NaN</td>\n",
       "    </tr>\n",
       "    <tr>\n",
       "      <th>2</th>\n",
       "      <td>3</td>\n",
       "      <td>lift_and_cruse</td>\n",
       "      <td>reactive</td>\n",
       "      <td>MVP_Bluesky</td>\n",
       "      <td>0</td>\n",
       "      <td>280.0</td>\n",
       "      <td>280.0</td>\n",
       "      <td>988.673469</td>\n",
       "      <td>988.940916</td>\n",
       "      <td>NaN</td>\n",
       "      <td>0.000195</td>\n",
       "      <td>0.026896</td>\n",
       "      <td>NaN</td>\n",
       "    </tr>\n",
       "    <tr>\n",
       "      <th>3</th>\n",
       "      <td>4</td>\n",
       "      <td>lift_and_cruse</td>\n",
       "      <td>reactive</td>\n",
       "      <td>MVP_Bluesky</td>\n",
       "      <td>0</td>\n",
       "      <td>480.0</td>\n",
       "      <td>480.0</td>\n",
       "      <td>1188.673469</td>\n",
       "      <td>1188.673469</td>\n",
       "      <td>NaN</td>\n",
       "      <td>0.000205</td>\n",
       "      <td>0.028336</td>\n",
       "      <td>NaN</td>\n",
       "    </tr>\n",
       "    <tr>\n",
       "      <th>4</th>\n",
       "      <td>5</td>\n",
       "      <td>lift_and_cruse</td>\n",
       "      <td>reactive</td>\n",
       "      <td>MVP_Bluesky</td>\n",
       "      <td>0</td>\n",
       "      <td>0.0</td>\n",
       "      <td>0.0</td>\n",
       "      <td>1227.458455</td>\n",
       "      <td>1227.813780</td>\n",
       "      <td>NaN</td>\n",
       "      <td>0.000193</td>\n",
       "      <td>0.046797</td>\n",
       "      <td>NaN</td>\n",
       "    </tr>\n",
       "  </tbody>\n",
       "</table>\n",
       "</div>"
      ],
      "text/plain": [
       "   agent_id      eVTOL_type simulation_type algorithm_type  \\\n",
       "0         1  lift_and_cruse        reactive    MVP_Bluesky   \n",
       "1         2  lift_and_cruse        reactive    MVP_Bluesky   \n",
       "2         3  lift_and_cruse        reactive    MVP_Bluesky   \n",
       "3         4  lift_and_cruse        reactive    MVP_Bluesky   \n",
       "4         5  lift_and_cruse        reactive    MVP_Bluesky   \n",
       "\n",
       "   Number_of_conflicts  Desired_time_of_departure  Actual_time_of_departure  \\\n",
       "0                    0                      100.0                     100.0   \n",
       "1                    0                      180.0                     180.0   \n",
       "2                    0                      280.0                     280.0   \n",
       "3                    0                      480.0                     480.0   \n",
       "4                    0                        0.0                       0.0   \n",
       "\n",
       "   Ideal_time_of_arrival  Actual_time_of_arrival  \\\n",
       "0             808.673469              808.673469   \n",
       "1             888.673469              888.673469   \n",
       "2             988.673469              988.940916   \n",
       "3            1188.673469             1188.673469   \n",
       "4            1227.458455             1227.813780   \n",
       "\n",
       "   Time_required_for_preflight_calculation  Average_time_to_plan_avoidance  \\\n",
       "0                                      NaN                        0.000173   \n",
       "1                                      NaN                        0.000178   \n",
       "2                                      NaN                        0.000195   \n",
       "3                                      NaN                        0.000205   \n",
       "4                                      NaN                        0.000193   \n",
       "\n",
       "   Total_planning_time Location_of_weather_statistics  \n",
       "0             0.023846                            NaN  \n",
       "1             0.024561                            NaN  \n",
       "2             0.026896                            NaN  \n",
       "3             0.028336                            NaN  \n",
       "4             0.046797                            NaN  "
      ]
     },
     "execution_count": 37,
     "metadata": {},
     "output_type": "execute_result"
    }
   ],
   "source": [
    "data_df.head()"
   ]
  },
  {
   "cell_type": "code",
   "execution_count": 38,
   "id": "6e9bad88",
   "metadata": {},
   "outputs": [
    {
     "data": {
      "text/html": [
       "<div>\n",
       "<style scoped>\n",
       "    .dataframe tbody tr th:only-of-type {\n",
       "        vertical-align: middle;\n",
       "    }\n",
       "\n",
       "    .dataframe tbody tr th {\n",
       "        vertical-align: top;\n",
       "    }\n",
       "\n",
       "    .dataframe thead th {\n",
       "        text-align: right;\n",
       "    }\n",
       "</style>\n",
       "<table border=\"1\" class=\"dataframe\">\n",
       "  <thead>\n",
       "    <tr style=\"text-align: right;\">\n",
       "      <th></th>\n",
       "      <th>agent_id</th>\n",
       "      <th>Number_of_conflicts</th>\n",
       "      <th>Desired_time_of_departure</th>\n",
       "      <th>Actual_time_of_departure</th>\n",
       "      <th>Ideal_time_of_arrival</th>\n",
       "      <th>Actual_time_of_arrival</th>\n",
       "      <th>Time_required_for_preflight_calculation</th>\n",
       "      <th>Average_time_to_plan_avoidance</th>\n",
       "      <th>Total_planning_time</th>\n",
       "    </tr>\n",
       "  </thead>\n",
       "  <tbody>\n",
       "    <tr>\n",
       "      <th>count</th>\n",
       "      <td>1.213010e+06</td>\n",
       "      <td>1.213010e+06</td>\n",
       "      <td>1.213010e+06</td>\n",
       "      <td>1.213010e+06</td>\n",
       "      <td>1.213010e+06</td>\n",
       "      <td>1.213010e+06</td>\n",
       "      <td>29460.000000</td>\n",
       "      <td>1.183550e+06</td>\n",
       "      <td>1.183550e+06</td>\n",
       "    </tr>\n",
       "    <tr>\n",
       "      <th>mean</th>\n",
       "      <td>6.065055e+05</td>\n",
       "      <td>2.252972e+00</td>\n",
       "      <td>3.600682e+03</td>\n",
       "      <td>3.914800e+03</td>\n",
       "      <td>5.093651e+03</td>\n",
       "      <td>5.700782e+03</td>\n",
       "      <td>2.165547</td>\n",
       "      <td>2.716829e-04</td>\n",
       "      <td>7.956242e-02</td>\n",
       "    </tr>\n",
       "    <tr>\n",
       "      <th>std</th>\n",
       "      <td>3.501660e+05</td>\n",
       "      <td>7.305550e+00</td>\n",
       "      <td>2.076841e+03</td>\n",
       "      <td>2.196534e+03</td>\n",
       "      <td>2.348091e+03</td>\n",
       "      <td>2.629683e+03</td>\n",
       "      <td>10.210420</td>\n",
       "      <td>3.123670e-05</td>\n",
       "      <td>4.895602e-02</td>\n",
       "    </tr>\n",
       "    <tr>\n",
       "      <th>min</th>\n",
       "      <td>1.000000e+00</td>\n",
       "      <td>0.000000e+00</td>\n",
       "      <td>0.000000e+00</td>\n",
       "      <td>0.000000e+00</td>\n",
       "      <td>4.692568e+02</td>\n",
       "      <td>4.451596e+02</td>\n",
       "      <td>0.000705</td>\n",
       "      <td>1.641693e-04</td>\n",
       "      <td>1.491356e-02</td>\n",
       "    </tr>\n",
       "    <tr>\n",
       "      <th>25%</th>\n",
       "      <td>3.032532e+05</td>\n",
       "      <td>0.000000e+00</td>\n",
       "      <td>2.170000e+03</td>\n",
       "      <td>2.430000e+03</td>\n",
       "      <td>3.480179e+03</td>\n",
       "      <td>3.907728e+03</td>\n",
       "      <td>0.165300</td>\n",
       "      <td>2.554127e-04</td>\n",
       "      <td>4.392457e-02</td>\n",
       "    </tr>\n",
       "    <tr>\n",
       "      <th>50%</th>\n",
       "      <td>6.065055e+05</td>\n",
       "      <td>0.000000e+00</td>\n",
       "      <td>3.380000e+03</td>\n",
       "      <td>3.740000e+03</td>\n",
       "      <td>4.701537e+03</td>\n",
       "      <td>5.330689e+03</td>\n",
       "      <td>0.351814</td>\n",
       "      <td>2.694626e-04</td>\n",
       "      <td>6.610823e-02</td>\n",
       "    </tr>\n",
       "    <tr>\n",
       "      <th>75%</th>\n",
       "      <td>9.097578e+05</td>\n",
       "      <td>2.000000e+00</td>\n",
       "      <td>4.695000e+03</td>\n",
       "      <td>5.050000e+03</td>\n",
       "      <td>6.276105e+03</td>\n",
       "      <td>7.118863e+03</td>\n",
       "      <td>0.930676</td>\n",
       "      <td>2.865405e-04</td>\n",
       "      <td>1.061280e-01</td>\n",
       "    </tr>\n",
       "    <tr>\n",
       "      <th>max</th>\n",
       "      <td>1.213010e+06</td>\n",
       "      <td>1.730000e+02</td>\n",
       "      <td>2.771000e+04</td>\n",
       "      <td>2.771000e+04</td>\n",
       "      <td>2.895018e+04</td>\n",
       "      <td>2.895124e+04</td>\n",
       "      <td>529.048430</td>\n",
       "      <td>3.141650e-03</td>\n",
       "      <td>8.994308e-01</td>\n",
       "    </tr>\n",
       "  </tbody>\n",
       "</table>\n",
       "</div>"
      ],
      "text/plain": [
       "           agent_id  Number_of_conflicts  Desired_time_of_departure  \\\n",
       "count  1.213010e+06         1.213010e+06               1.213010e+06   \n",
       "mean   6.065055e+05         2.252972e+00               3.600682e+03   \n",
       "std    3.501660e+05         7.305550e+00               2.076841e+03   \n",
       "min    1.000000e+00         0.000000e+00               0.000000e+00   \n",
       "25%    3.032532e+05         0.000000e+00               2.170000e+03   \n",
       "50%    6.065055e+05         0.000000e+00               3.380000e+03   \n",
       "75%    9.097578e+05         2.000000e+00               4.695000e+03   \n",
       "max    1.213010e+06         1.730000e+02               2.771000e+04   \n",
       "\n",
       "       Actual_time_of_departure  Ideal_time_of_arrival  \\\n",
       "count              1.213010e+06           1.213010e+06   \n",
       "mean               3.914800e+03           5.093651e+03   \n",
       "std                2.196534e+03           2.348091e+03   \n",
       "min                0.000000e+00           4.692568e+02   \n",
       "25%                2.430000e+03           3.480179e+03   \n",
       "50%                3.740000e+03           4.701537e+03   \n",
       "75%                5.050000e+03           6.276105e+03   \n",
       "max                2.771000e+04           2.895018e+04   \n",
       "\n",
       "       Actual_time_of_arrival  Time_required_for_preflight_calculation  \\\n",
       "count            1.213010e+06                             29460.000000   \n",
       "mean             5.700782e+03                                 2.165547   \n",
       "std              2.629683e+03                                10.210420   \n",
       "min              4.451596e+02                                 0.000705   \n",
       "25%              3.907728e+03                                 0.165300   \n",
       "50%              5.330689e+03                                 0.351814   \n",
       "75%              7.118863e+03                                 0.930676   \n",
       "max              2.895124e+04                               529.048430   \n",
       "\n",
       "       Average_time_to_plan_avoidance  Total_planning_time  \n",
       "count                    1.183550e+06         1.183550e+06  \n",
       "mean                     2.716829e-04         7.956242e-02  \n",
       "std                      3.123670e-05         4.895602e-02  \n",
       "min                      1.641693e-04         1.491356e-02  \n",
       "25%                      2.554127e-04         4.392457e-02  \n",
       "50%                      2.694626e-04         6.610823e-02  \n",
       "75%                      2.865405e-04         1.061280e-01  \n",
       "max                      3.141650e-03         8.994308e-01  "
      ]
     },
     "execution_count": 38,
     "metadata": {},
     "output_type": "execute_result"
    }
   ],
   "source": [
    "data_df.describe()"
   ]
  },
  {
   "cell_type": "code",
   "execution_count": 39,
   "id": "652310ad",
   "metadata": {},
   "outputs": [
    {
     "data": {
      "text/plain": [
       "(1213010, 13)"
      ]
     },
     "execution_count": 39,
     "metadata": {},
     "output_type": "execute_result"
    }
   ],
   "source": [
    "data_df.shape"
   ]
  },
  {
   "cell_type": "code",
   "execution_count": 40,
   "id": "a15e3718",
   "metadata": {},
   "outputs": [
    {
     "name": "stdout",
     "output_type": "stream",
     "text": [
      "['lift_and_cruse' 'multicopter' 'vector_thrust']\n",
      "['reactive' 'strategic']\n",
      "['MVP_Bluesky' 'Decoupled' 'LocalVO' 'SIPP']\n"
     ]
    }
   ],
   "source": [
    "print(pd.unique(data_df['eVTOL_type']))\n",
    "print(pd.unique(data_df['simulation_type']))\n",
    "print(pd.unique(data_df['algorithm_type']))\n"
   ]
  },
  {
   "cell_type": "markdown",
   "id": "f23494c1",
   "metadata": {},
   "source": [
    "# CASE STUDY-1"
   ]
  },
  {
   "cell_type": "code",
   "execution_count": 41,
   "id": "b4224460",
   "metadata": {},
   "outputs": [],
   "source": [
    "df1 = data_df[data_df['eVTOL_type']=='vector_thrust']\n",
    "df2 = data_df[data_df['eVTOL_type']=='lift_and_cruse']\n",
    "df3 = data_df[data_df['eVTOL_type']=='multicopter']"
   ]
  },
  {
   "cell_type": "code",
   "execution_count": 42,
   "id": "82d10d8e",
   "metadata": {},
   "outputs": [],
   "source": [
    "vt = np.mean(df1['Actual_time_of_arrival']-df1['Actual_time_of_departure'])/60\n",
    "lc = np.mean(df2['Actual_time_of_arrival']-df2['Actual_time_of_departure'])/60\n",
    "mc = np.mean(df3['Actual_time_of_arrival']-df3['Actual_time_of_departure'])/60"
   ]
  },
  {
   "cell_type": "code",
   "execution_count": 43,
   "id": "cd541c11",
   "metadata": {},
   "outputs": [
    {
     "data": {
      "text/plain": [
       "Text(0, 0.5, 'Average Travel Time (min)')"
      ]
     },
     "execution_count": 43,
     "metadata": {},
     "output_type": "execute_result"
    },
    {
     "data": {
      "image/png": "[encoded data removed]",
      "text/plain": [
       "<Figure size 720x504 with 1 Axes>"
      ]
     },
     "metadata": {
      "needs_background": "light"
     },
     "output_type": "display_data"
    }
   ],
   "source": [
    "fig1 = plt.figure(figsize=(10,7))\n",
    "plt.rcParams.update({'font.size': 22})\n",
    "plt.bar(['Vector Thrust','Lift+Cruise', 'Multicopter'],[vt,lc,mc])\n",
    "plt.ylabel(\"Average Travel Time (min)\")\n",
    "# plt.xticks(['vector thrust','lift+cruise', 'multicopter'])"
   ]
  },
  {
   "cell_type": "markdown",
   "id": "f56ff2cf",
   "metadata": {},
   "source": [
    "# CASE STUDY-2"
   ]
  },
  {
   "cell_type": "code",
   "execution_count": 44,
   "id": "0b3f4590",
   "metadata": {},
   "outputs": [],
   "source": [
    "locations = ['ATL','JFK','BOS','ORD','LAX']"
   ]
  },
  {
   "cell_type": "code",
   "execution_count": 45,
   "id": "9861e350",
   "metadata": {},
   "outputs": [
    {
     "name": "stdout",
     "output_type": "stream",
     "text": [
      "17.463026318555244 24.1164900138428 44.941027776847505\n",
      "16.892792621000655 26.971503311053635 45.1598275193752\n",
      "17.102272284935307 23.75935284161105 46.70756595429474\n",
      "17.21228022872237 25.664635876029923 44.87681378803766\n",
      "16.518328772016524 26.06567658699468 45.81642060488387\n",
      "[0.09337486002861439, 0.6636085575832027, 0.45412889364855147, 0.34412094986148745, 1.0380724065673341] [7.376534626974362, 4.521521329763527, 7.73367179920611, 5.828388764787238, 5.427348053822481] [2.370908486102735, 2.5897082286304283, 4.137446663549973, 2.306694497292888, 3.246301314139096]\n"
     ]
    }
   ],
   "source": [
    "mean_travel_time = []\n",
    "vts = []\n",
    "lcs = []\n",
    "mcs = []\n",
    "for loc in locations:\n",
    "    df = data_df[data_df['Location_of_weather_statistics']==loc]\n",
    "    df = df[df['simulation_type']=='reactive']\n",
    "\n",
    "    df1 = df[df['eVTOL_type']=='vector_thrust']\n",
    "    df2 = df[df['eVTOL_type']=='lift_and_cruse']\n",
    "    df3 = df[df['eVTOL_type']=='multicopter']\n",
    "    \n",
    "    df = data_df[pd.isnull(data_df['Location_of_weather_statistics'])]\n",
    "    df = df[df['simulation_type']=='reactive']\n",
    "    \n",
    "    df4 = df[df['eVTOL_type']=='vector_thrust']\n",
    "    df5 = df[df['eVTOL_type']=='lift_and_cruse']\n",
    "    df6 = df[df['eVTOL_type']=='multicopter']\n",
    "    \n",
    "    vt_w = np.mean(df4['Actual_time_of_arrival']-df4['Actual_time_of_departure'])/60\n",
    "    lc_w = np.mean(df5['Actual_time_of_arrival']-df5['Actual_time_of_departure'])/60\n",
    "    mc_w = np.mean(df6['Actual_time_of_arrival']-df6['Actual_time_of_departure'])/60\n",
    "    \n",
    "    vt = np.mean(df1['Actual_time_of_arrival']-df1['Actual_time_of_departure'])/60\n",
    "    lc = np.mean(df2['Actual_time_of_arrival']-df2['Actual_time_of_departure'])/60\n",
    "    mc = np.mean(df3['Actual_time_of_arrival']-df3['Actual_time_of_departure'])/60\n",
    "    vts.append(abs(vt-vt_w))\n",
    "    lcs.append(abs(lc-lc_w))\n",
    "    mcs.append(abs(mc-mc_w))\n",
    "    print(vt,lc,mc)\n",
    "print(vts,lcs,mcs)"
   ]
  },
  {
   "cell_type": "code",
   "execution_count": 46,
   "id": "da88706f",
   "metadata": {},
   "outputs": [
    {
     "data": {
      "text/plain": [
       "<matplotlib.legend.Legend at 0x7f9dce5cbb50>"
      ]
     },
     "execution_count": 46,
     "metadata": {},
     "output_type": "execute_result"
    },
    {
     "data": {
      "image/png": "[encoded data removed]",
      "text/plain": [
       "<Figure size 720x504 with 1 Axes>"
      ]
     },
     "metadata": {
      "needs_background": "light"
     },
     "output_type": "display_data"
    }
   ],
   "source": [
    "locations = ['Atlanta','New York','Boston','Chicago','Los Angeles']\n",
    "fig1 = plt.figure(figsize=(10,7))\n",
    "plt.rcParams.update({'font.size': 22})\n",
    "x = np.arange(len(locations))\n",
    "width = 0.2\n",
    "  \n",
    "# plot data in grouped manner of bar type\n",
    "plt.bar(x-0.2, vts, width, color='blue')\n",
    "plt.bar(x, lcs, width, color='orange')\n",
    "plt.bar(x+0.2, mcs, width, color='green')\n",
    "plt.xticks(x, locations,rotation=45)\n",
    "# plt.xlabel(\"Teams\")\n",
    "plt.ylabel(\"$\\Delta$ Travel Time (min)\")\n",
    "plt.ylim([0,10])\n",
    "plt.legend(['Vector Thrust','Lift+Cruise', 'Multicopter'], loc='upper right', framealpha=1)"
   ]
  },
  {
   "cell_type": "code",
   "execution_count": null,
   "id": "44beb72e",
   "metadata": {},
   "outputs": [],
   "source": []
  }
 ],
 "metadata": {
  "kernelspec": {
   "display_name": "Python 3 (ipykernel)",
   "language": "python",
   "name": "python3"
  },
  "language_info": {
   "codemirror_mode": {
    "name": "ipython",
    "version": 3
   },
   "file_extension": ".py",
   "mimetype": "text/x-python",
   "name": "python",
   "nbconvert_exporter": "python",
   "pygments_lexer": "ipython3",
   "version": "3.7.5"
  }
 },
 "nbformat": 4,
 "nbformat_minor": 5
}
