{
 "cells": [
  {
   "cell_type": "markdown",
   "id": "54c52d9d",
   "metadata": {
    "heading_collapsed": true
   },
   "source": [
    "# Imports\n",
    "## Author: Mrinmoy Sarkar\n",
    "## email: mrinmoy.pol@gmail.com, msarkar@aggies.ncat.edu"
   ]
  },
  {
   "cell_type": "code",
   "execution_count": 39,
   "id": "d63b2e8a",
   "metadata": {
    "hidden": true
   },
   "outputs": [],
   "source": [
    "import numpy as np\n",
    "import pandas as pd\n",
    "import matplotlib.pyplot as plt\n",
    "import sys\n",
    "import os\n",
    "import time\n",
    "from sklearn.preprocessing import OneHotEncoder\n",
    "from sklearn.tree import DecisionTreeRegressor, DecisionTreeClassifier\n",
    "from sklearn.ensemble import AdaBoostRegressor, AdaBoostClassifier\n",
    "from sklearn.ensemble import GradientBoostingRegressor, GradientBoostingClassifier \n",
    "from sklearn.ensemble import RandomForestRegressor, RandomForestClassifier\n",
    "from sklearn.model_selection import train_test_split\n",
    "from sklearn.metrics import mean_squared_error, mean_absolute_error, mean_absolute_percentage_error\n",
    "from sklearn.metrics import make_scorer, accuracy_score, f1_score, recall_score, precision_score\n",
    "from sklearn import svm\n",
    "from sklearn.linear_model import LinearRegression\n",
    "from sklearn.model_selection import cross_val_score\n",
    "from sklearn.model_selection import cross_validate\n",
    "from sklearn.preprocessing import StandardScaler, MinMaxScaler\n",
    "from sklearn.neural_network import MLPRegressor, MLPClassifier\n",
    "import tensorflow as tf\n",
    "from tensorflow.data import Dataset\n",
    "from tensorflow.keras.layers import Input, LSTM, Dense, Bidirectional, Activation, GRU\n",
    "from tensorflow.keras.models import Model\n",
    "from tensorflow.keras import optimizers\n",
    "from tensorflow.keras import losses\n",
    "from tensorflow.keras import metrics\n",
    "from tensorflow.keras.utils import plot_model, to_categorical\n",
    "from tensorflow.keras.models import load_model\n",
    "from tensorflow.keras.preprocessing import timeseries_dataset_from_array\n",
    "from tensorflow.keras.callbacks import LambdaCallback\n",
    "from pickle import dump\n",
    "from copy import deepcopy\n",
    "import warnings\n",
    "\n",
    "warnings.filterwarnings('ignore')\n",
    "\n",
    "# from tensorflow.python.client import device_lib\n",
    "# print(device_lib.list_local_devices())\n",
    "\n",
    "# config = tf.ConfigProto( device_count = {'GPU': 1 , 'CPU': 56} ) \n",
    "# sess = tf.Session(config=config) \n",
    "# tf.keras.backend.set_session(sess)"
   ]
  },
  {
   "cell_type": "markdown",
   "id": "04301edb",
   "metadata": {},
   "source": [
    "# Data Preprocessing"
   ]
  },
  {
   "cell_type": "code",
   "execution_count": 13,
   "id": "d182fcde",
   "metadata": {
    "code_folding": []
   },
   "outputs": [
    {
     "name": "stdout",
     "output_type": "stream",
     "text": [
      "81 15\n",
      "80\n",
      "15\n"
     ]
    }
   ],
   "source": [
    "profile_spec_path = './logs/profiles_eval_sample/'\n",
    "performance_metrics = ['profile_flight_conditions_', 'profile_aircraft_electronics_',\n",
    "                       'profile_aerodynamic_coefficients_', 'profile_electric_motor_and_propeller_efficiencies_']\n",
    "mission_spec_df = None\n",
    "evtol_performance_data_dic = {}\n",
    "sample_index = 0\n",
    "\n",
    "file_spec_names = []\n",
    "for root, dirs, files in os.walk(profile_spec_path):\n",
    "    for file in files:\n",
    "        if 'profile_spec' in file:\n",
    "            file_spec_names.append(file)\n",
    "\n",
    "train_files, test_files = train_test_split(file_spec_names, test_size=0.15)\n",
    "\n",
    "print(len(train_files), len(test_files))\n",
    "\n",
    "#create train dataset\n",
    "for file in train_files:\n",
    "    spec_num = file.split('_')[-1]\n",
    "    outputs = []\n",
    "    for performance_mat in performance_metrics:\n",
    "        performance_path = os.path.join(root,performance_mat+spec_num)\n",
    "        if os.path.exists(performance_path):\n",
    "            performance_df = pd.read_csv(performance_path)\n",
    "            performance_df = performance_df.fillna(0)\n",
    "            outputs.append(performance_df.copy())\n",
    "    if outputs:\n",
    "        file_path = os.path.join(root, file)\n",
    "        spec_df = pd.read_csv(file_path)\n",
    "        spec_df = spec_df.fillna(0)\n",
    "        evtol_performance_data_dic[sample_index]={'input':spec_df.copy(), 'outputs':outputs}\n",
    "        sample_index += 1\n",
    "        \n",
    "#create test dataset\n",
    "test_evtol_performance_data_dic = {}\n",
    "sample_index = 0\n",
    "for file in test_files:\n",
    "    spec_num = file.split('_')[-1]\n",
    "    outputs = []\n",
    "    for performance_mat in performance_metrics:\n",
    "        performance_path = os.path.join(root,performance_mat+spec_num)\n",
    "        if os.path.exists(performance_path):\n",
    "            performance_df = pd.read_csv(performance_path)\n",
    "            performance_df = performance_df.fillna(0)\n",
    "            outputs.append(performance_df.copy())\n",
    "    if outputs:\n",
    "        file_path = os.path.join(root, file)\n",
    "        spec_df = pd.read_csv(file_path)\n",
    "        spec_df = spec_df.fillna(0)\n",
    "        test_evtol_performance_data_dic[sample_index]={'input':spec_df.copy(), 'outputs':outputs}\n",
    "        sample_index += 1\n",
    "\n",
    "print(len(evtol_performance_data_dic))\n",
    "print(len(test_evtol_performance_data_dic))"
   ]
  },
  {
   "cell_type": "code",
   "execution_count": 14,
   "id": "265bbf72",
   "metadata": {
    "code_folding": [
     0,
     4,
     12,
     26
    ]
   },
   "outputs": [
    {
     "name": "stdout",
     "output_type": "stream",
     "text": [
      "[0. 0. 0. 0. 0. 0. 0. 1. 0. 0. 0.]\n",
      "[1. 0. 0.]\n"
     ]
    }
   ],
   "source": [
    "segment_types = ['hover_climb', 'dep_transition', 'second_climb',\n",
    "       'departure_terminal_procedures', 'accel_climb', 'cruise', 'decel_descend',\n",
    "       'arrival_terminal_procedure', 'second_descent', 'app_transition',\n",
    "       'hover_descent']\n",
    "segment_weights = {'hover_climb':2, 'dep_transition':2, 'second_climb':2,\n",
    "       'departure_terminal_procedures':2, 'accel_climb':2, 'cruise':1, 'decel_descend':2,\n",
    "       'arrival_terminal_procedure':2, 'second_descent':2, 'app_transition':2,\n",
    "       'hover_descent':2}\n",
    "segment_types = [[i] for i in segment_types]\n",
    "segment_type_encoder = OneHotEncoder()\n",
    "segment_type_encoder.fit(segment_types)\n",
    "\n",
    "def get_one_hot_encode_segment(x):\n",
    "    if 'cruise' in x:\n",
    "        return segment_type_encoder.transform([['cruise']]).toarray()[0]\n",
    "    else:\n",
    "        return segment_type_encoder.transform([[x]]).toarray()[0]\n",
    "    \n",
    "print(get_one_hot_encode_segment('hover_climb'))\n",
    "\n",
    "evtol_types = ['lift_and_cruse', 'vector_thrust', 'multicopter']\n",
    "evtol_types = [[i] for i in evtol_types]\n",
    "\n",
    "evtol_type_encoder = OneHotEncoder()\n",
    "evtol_type_encoder.fit(evtol_types)\n",
    "\n",
    "def get_one_hot_encode_evtol(x):\n",
    "    return evtol_type_encoder.transform([[x]]).toarray()[0]\n",
    "    \n",
    "print(get_one_hot_encode_evtol('lift_and_cruse'))"
   ]
  },
  {
   "cell_type": "code",
   "execution_count": 47,
   "id": "d5c17e2c",
   "metadata": {
    "code_folding": [
     0,
     16,
     32,
     48,
     64,
     94,
     121,
     160,
     198
    ]
   },
   "outputs": [],
   "source": [
    "def get_dataX():\n",
    "    data_X = None\n",
    "    for key in range(len(evtol_performance_data_dic)):\n",
    "        X = None\n",
    "        x = evtol_performance_data_dic[key]['input']\n",
    "        evtol_type = evtol_performance_data_dic[key]['outputs'][0]['eVTOL_type'][0]\n",
    "        for i in range(x.shape[0]):\n",
    "            x_row = x.iloc[i].to_numpy()\n",
    "            x1 = get_one_hot_encode_evtol(evtol_type)\n",
    "            x2 = get_one_hot_encode_segment(x_row[0])\n",
    "            x3 = x_row[1:].astype('float64')\n",
    "            x_row = np.concatenate((x1,x2,x3))\n",
    "            X = x_row if X is None else np.vstack((X,x_row))\n",
    "        data_X = X if data_X is None else np.vstack((data_X, X))\n",
    "    return data_X\n",
    "\n",
    "def get_dataY(performance):\n",
    "    performances = ['flight_conditions', 'aircraft_electronics',\n",
    "                           'aerodynamic_coefficients', 'electric_motor_and_propeller_efficiencies']\n",
    "    data_Y = None\n",
    "    indx = performances.index(performance)\n",
    "    for key in range(len(evtol_performance_data_dic)):\n",
    "        Y = None\n",
    "        y = evtol_performance_data_dic[key]['outputs'][indx]\n",
    "        for i in range(0,y.shape[0],8):\n",
    "            y_row = y.iloc[i:i+8].to_numpy()\n",
    "            y_row = y_row[:, 2:].astype('float64')\n",
    "            y_row = np.mean(y_row, axis=0)\n",
    "            Y = y_row if Y is None else np.vstack((Y, y_row))\n",
    "        data_Y = Y if data_Y is None else np.vstack((data_Y, Y))\n",
    "    return data_Y\n",
    "\n",
    "def get_datatestX():\n",
    "    data_X = None\n",
    "    for key in range(len(test_evtol_performance_data_dic)):\n",
    "        X = None\n",
    "        x = test_evtol_performance_data_dic[key]['input']\n",
    "        evtol_type = test_evtol_performance_data_dic[key]['outputs'][0]['eVTOL_type'][0]\n",
    "        for i in range(x.shape[0]):\n",
    "            x_row = x.iloc[i].to_numpy()\n",
    "            x1 = get_one_hot_encode_evtol(evtol_type)\n",
    "            x2 = get_one_hot_encode_segment(x_row[0])\n",
    "            x3 = x_row[1:].astype('float64')\n",
    "            x_row = np.concatenate((x1,x2,x3))\n",
    "            X = x_row if X is None else np.vstack((X,x_row))\n",
    "        data_X = X if data_X is None else np.vstack((data_X, X))\n",
    "    return data_X\n",
    "\n",
    "def get_datatestY(performance):\n",
    "    performances = ['flight_conditions', 'aircraft_electronics',\n",
    "                           'aerodynamic_coefficients', 'electric_motor_and_propeller_efficiencies']\n",
    "    data_Y = None\n",
    "    indx = performances.index(performance)\n",
    "    for key in range(len(test_evtol_performance_data_dic)):\n",
    "        Y = None\n",
    "        y = test_evtol_performance_data_dic[key]['outputs'][indx]\n",
    "        for i in range(0,y.shape[0],8):\n",
    "            y_row = y.iloc[i:i+8].to_numpy()\n",
    "            y_row = y_row[:, 2:].astype('float64')\n",
    "            y_row = np.mean(y_row, axis=0)\n",
    "            Y = y_row if Y is None else np.vstack((Y, y_row))\n",
    "        data_Y = Y if data_Y is None else np.vstack((data_Y, Y))\n",
    "    return data_Y\n",
    "\n",
    "def get_data_for_inference(performance):\n",
    "    data_X = None\n",
    "    key = np.random.randint(0, len(test_evtol_performance_data_dic))\n",
    "    \n",
    "    X = None\n",
    "    x = test_evtol_performance_data_dic[key]['input']\n",
    "    evtol_type = test_evtol_performance_data_dic[key]['outputs'][0]['eVTOL_type'][0]\n",
    "    for i in range(x.shape[0]):\n",
    "        x_row = x.iloc[i].to_numpy()\n",
    "        x1 = get_one_hot_encode_evtol(evtol_type)\n",
    "        x2 = get_one_hot_encode_segment(x_row[0])\n",
    "        x3 = x_row[1:].astype('float64')\n",
    "        x_row = np.concatenate((x1,x2,x3))\n",
    "        X = x_row if X is None else np.vstack((X,x_row))\n",
    "    data_X = X if data_X is None else np.vstack((data_X, X))\n",
    "    \n",
    "    performances = ['flight_conditions', 'aircraft_electronics',\n",
    "                           'aerodynamic_coefficients', 'electric_motor_and_propeller_efficiencies']\n",
    "    data_Y = None\n",
    "    indx = performances.index(performance)\n",
    "    Y = None\n",
    "    y = test_evtol_performance_data_dic[key]['outputs'][indx]\n",
    "    for i in range(0,y.shape[0],8):\n",
    "        y_row = y.iloc[i:i+8].to_numpy()\n",
    "        y_row = y_row[:, 2:].astype('float64')\n",
    "        y_row = np.mean(y_row, axis=0)\n",
    "        Y = y_row if Y is None else np.vstack((Y, y_row))\n",
    "    data_Y = Y if data_Y is None else np.vstack((data_Y, Y))\n",
    "    return data_X, data_Y\n",
    "\n",
    "def get_data_for_lstm(performance):\n",
    "    \n",
    "    performances = ['flight_conditions', 'aircraft_electronics',\n",
    "                           'aerodynamic_coefficients', 'electric_motor_and_propeller_efficiencies']\n",
    "    \n",
    "    indx = performances.index(performance)\n",
    "    for key in range(len(evtol_performance_data_dic)):\n",
    "        X = None\n",
    "        x = evtol_performance_data_dic[key]['input']\n",
    "        evtol_type = evtol_performance_data_dic[key]['outputs'][0]['eVTOL_type'][0]\n",
    "        for i in range(x.shape[0]):\n",
    "            x_row = x.iloc[i].to_numpy()\n",
    "            x1 = get_one_hot_encode_evtol(evtol_type)\n",
    "            x2 = get_one_hot_encode_segment(x_row[0])\n",
    "            x3 = x_row[1:].astype('float64')\n",
    "            x_row = np.concatenate((x1,x2,x3))\n",
    "            X = x_row if X is None else np.vstack((X,x_row))\n",
    "        \n",
    "        Y = None\n",
    "        y = evtol_performance_data_dic[key]['outputs'][indx]\n",
    "        for i in range(0,y.shape[0],8):\n",
    "            y_row = y.iloc[i:i+8].to_numpy()\n",
    "            y_row = y_row[:, 2:].astype('float64')\n",
    "            y_row = np.mean(y_row, axis=0)\n",
    "            Y = y_row if Y is None else np.vstack((Y, y_row))\n",
    "        yield X, Y\n",
    "        \n",
    "def get_data_for_lstm_idx(performance, idx):\n",
    "    \n",
    "    performances = ['flight_conditions', 'aircraft_electronics',\n",
    "                           'aerodynamic_coefficients', 'electric_motor_and_propeller_efficiencies']\n",
    "    \n",
    "    \n",
    "    indx = performances.index(performance)\n",
    "    for key in range(len(evtol_performance_data_dic)):\n",
    "        X = None\n",
    "        x = evtol_performance_data_dic[key]['input']\n",
    "        evtol_type = evtol_performance_data_dic[key]['outputs'][0]['eVTOL_type'][0]\n",
    "        Y = None\n",
    "        y = evtol_performance_data_dic[key]['outputs'][indx]\n",
    "        \n",
    "        ii = list(range(x.shape[0]))\n",
    "        jj = list(range(0,y.shape[0],8))\n",
    "        ii = ii[0:-1]\n",
    "        jj = jj[1:]\n",
    "        \n",
    "        for i,j in zip(ii,jj):\n",
    "            x_row = x.iloc[i].to_numpy()\n",
    "            x1 = get_one_hot_encode_evtol(evtol_type)\n",
    "            x2 = get_one_hot_encode_segment(x_row[0])\n",
    "            x3 = x_row[1:].astype('float64')\n",
    "            x4 = y.iloc[i:i+8].to_numpy()\n",
    "            x4 = x4[:, idx].astype('float64')\n",
    "            x4 = [np.mean(x4, axis=0)]\n",
    "            \n",
    "            x_row = np.concatenate((x1,x2,x3,x4))\n",
    "            \n",
    "            y_row = y.iloc[j:j+8].to_numpy()\n",
    "            y_row = y_row[:, 2:].astype('float64')\n",
    "            y_row = np.mean(y_row, axis=0)\n",
    "            \n",
    "            X = x_row if X is None else np.vstack((X,x_row))\n",
    "            Y = y_row if Y is None else np.vstack((Y, y_row))\n",
    "            \n",
    "        yield X, Y\n",
    "        \n",
    "def get_data_for_lstm_train(performance, idx):\n",
    "    performances = ['flight_conditions', 'aircraft_electronics',\n",
    "                           'aerodynamic_coefficients', 'electric_motor_and_propeller_efficiencies']  \n",
    "    indx = performances.index(performance)\n",
    "    data_X = None\n",
    "    data_Y = None\n",
    "    for key in range(len(evtol_performance_data_dic)):\n",
    "        Y = None\n",
    "        y = evtol_performance_data_dic[key]['outputs'][indx]\n",
    "        x4 = [0]\n",
    "        for i in range(0,y.shape[0],8):\n",
    "            y_row = y.iloc[i:i+8].to_numpy()\n",
    "            y_row = y_row[:, 2:].astype('float64')\n",
    "            y_row = np.mean(y_row, axis=0)\n",
    "            x4.append(y_row[idx])\n",
    "            if y_row[-1]==0:\n",
    "                Y = None\n",
    "                break\n",
    "            Y = y_row if Y is None else np.vstack((Y, y_row))\n",
    "        if Y is None:\n",
    "            continue\n",
    "#         print(x4)\n",
    "\n",
    "        X = None\n",
    "        x = evtol_performance_data_dic[key]['input']\n",
    "        evtol_type = evtol_performance_data_dic[key]['outputs'][0]['eVTOL_type'][0]\n",
    "        for i in range(x.shape[0]):\n",
    "            x_row = x.iloc[i].to_numpy()\n",
    "            x1 = get_one_hot_encode_evtol(evtol_type)\n",
    "            x2 = get_one_hot_encode_segment(x_row[0])\n",
    "            x3 = x_row[1:].astype('float64')\n",
    "            x_row = np.concatenate((x1,x2,x3,[x4[i]]))\n",
    "            X = x_row if X is None else np.vstack((X,x_row))\n",
    "        data_X = X if data_X is None else np.vstack((data_X, X))\n",
    "        data_Y = Y if data_Y is None else np.vstack((data_Y, Y))\n",
    "\n",
    "    return data_X, data_Y\n",
    "\n",
    "def get_data_for_lstm_test(performance, idx):\n",
    "    performances = ['flight_conditions', 'aircraft_electronics',\n",
    "                           'aerodynamic_coefficients', 'electric_motor_and_propeller_efficiencies']  \n",
    "    indx = performances.index(performance)\n",
    "    data_X = None\n",
    "    data_Y = None\n",
    "    for key in range(len(test_evtol_performance_data_dic)):\n",
    "        Y = None\n",
    "        y = test_evtol_performance_data_dic[key]['outputs'][indx]\n",
    "        x4 = [0]\n",
    "        for i in range(0,y.shape[0],8):\n",
    "            y_row = y.iloc[i:i+8].to_numpy()\n",
    "            y_row = y_row[:, 2:].astype('float64')\n",
    "            y_row = np.mean(y_row, axis=0)\n",
    "            x4.append(y_row[idx])\n",
    "            if y_row[-1]==0:\n",
    "                Y = None\n",
    "                break\n",
    "            Y = y_row if Y is None else np.vstack((Y, y_row))\n",
    "        if Y is None:\n",
    "            continue\n",
    "#         print(x4)\n",
    "\n",
    "        X = None\n",
    "        x = test_evtol_performance_data_dic[key]['input']\n",
    "        evtol_type = test_evtol_performance_data_dic[key]['outputs'][0]['eVTOL_type'][0]\n",
    "        for i in range(x.shape[0]):\n",
    "            x_row = x.iloc[i].to_numpy()\n",
    "            x1 = get_one_hot_encode_evtol(evtol_type)\n",
    "            x2 = get_one_hot_encode_segment(x_row[0])\n",
    "            x3 = x_row[1:].astype('float64')\n",
    "            x_row = np.concatenate((x1,x2,x3,[x4[i]]))\n",
    "            X = x_row if X is None else np.vstack((X,x_row))\n",
    "        data_X = X if data_X is None else np.vstack((data_X, X))\n",
    "        data_Y = Y if data_Y is None else np.vstack((data_Y, Y))\n",
    "\n",
    "    return data_X, data_Y\n",
    "\n",
    "def get_data_for_lstm_inference(performance, idx, init_key=-1):\n",
    "    performances = ['flight_conditions', 'aircraft_electronics',\n",
    "                           'aerodynamic_coefficients', 'electric_motor_and_propeller_efficiencies']  \n",
    "    indx = performances.index(performance)\n",
    "    \n",
    "    for _ in range(100):\n",
    "        key = np.random.randint(0, len(test_evtol_performance_data_dic)) if init_key==-1 else init_key\n",
    "        Y = None\n",
    "        y = test_evtol_performance_data_dic[key]['outputs'][indx]\n",
    "        x4 = [0]\n",
    "        for i in range(0,y.shape[0],8):\n",
    "            y_row = y.iloc[i:i+8].to_numpy()\n",
    "            y_row = y_row[:, 2:].astype('float64')\n",
    "            y_row = np.mean(y_row, axis=0)\n",
    "            x4.append(y_row[idx])\n",
    "            if y_row[-1]==0:\n",
    "                Y = None\n",
    "                break\n",
    "            Y = y_row if Y is None else np.vstack((Y, y_row))\n",
    "        if Y is None:\n",
    "            continue\n",
    "\n",
    "        X = None\n",
    "        x = test_evtol_performance_data_dic[key]['input']\n",
    "        evtol_type = test_evtol_performance_data_dic[key]['outputs'][0]['eVTOL_type'][0]\n",
    "        for i in range(x.shape[0]):\n",
    "            x_row = x.iloc[i].to_numpy()\n",
    "            x1 = get_one_hot_encode_evtol(evtol_type)\n",
    "            x2 = get_one_hot_encode_segment(x_row[0])\n",
    "            x3 = x_row[1:].astype('float64')\n",
    "            x_row = np.concatenate((x1,x2,x3,[x4[i]]))\n",
    "            X = x_row if X is None else np.vstack((X,x_row))\n",
    "            \n",
    "        return X, Y, key\n",
    "\n",
    "    return None, None"
   ]
  },
  {
   "cell_type": "code",
   "execution_count": 16,
   "id": "0568d86f",
   "metadata": {},
   "outputs": [
    {
     "name": "stdout",
     "output_type": "stream",
     "text": [
      "(6096, 22)\n",
      "(6096, 6)\n",
      "(19, 22) (19, 6)\n"
     ]
    }
   ],
   "source": [
    "dataX = get_dataX()\n",
    "print(dataX.shape)\n",
    "dataY = get_dataY('flight_conditions')\n",
    "print(dataY.shape)\n",
    "testX, testY = get_data_for_inference('flight_conditions')\n",
    "print(testX.shape, testY.shape)"
   ]
  },
  {
   "cell_type": "markdown",
   "id": "86542d0d",
   "metadata": {
    "heading_collapsed": true
   },
   "source": [
    "# Test Data Preprocessing Code"
   ]
  },
  {
   "cell_type": "code",
   "execution_count": 6,
   "id": "930a78b6",
   "metadata": {
    "hidden": true
   },
   "outputs": [
    {
     "name": "stdout",
     "output_type": "stream",
     "text": [
      "0.019749826431873452\n"
     ]
    },
    {
     "data": {
      "image/png": "[encoded data removed]",
      "text/plain": [
       "<Figure size 432x288 with 1 Axes>"
      ]
     },
     "metadata": {
      "needs_background": "light"
     },
     "output_type": "display_data"
    }
   ],
   "source": [
    "X_train, X_test, y_train, y_test = train_test_split(dataX, dataY, test_size=0.3, random_state=42)\n",
    "regr_1 = DecisionTreeRegressor(max_depth=32)\n",
    "regr_1.fit(X_train, y_train[:,5])\n",
    "y_1 = regr_1.predict(X_test)\n",
    "plt.plot(y_1)\n",
    "plt.plot(y_test[:,5])\n",
    "err1 = mean_squared_error(y_test[:,5],y_1)\n",
    "print(err1)"
   ]
  },
  {
   "cell_type": "markdown",
   "id": "c6c042e1",
   "metadata": {
    "heading_collapsed": true
   },
   "source": [
    "# Results Dictionary Definition"
   ]
  },
  {
   "cell_type": "code",
   "execution_count": 21,
   "id": "887b6f86",
   "metadata": {
    "hidden": true
   },
   "outputs": [],
   "source": [
    "criterias_lst = [\"MAE\", \"MSE\", \"RMSE\", \"MAPE\"]\n",
    "fesibility_criterias_lst = ['accuracy', 'f1', 'precision', 'recall']\n",
    "# criterias = {\"MAE\":{}, \"MSE\":{}, \"RMSE\":{}, \"MAPE\":{}}\n",
    "performance = {'flight_conditions':{}, #criterias, \n",
    "               'aircraft_electronics':{}, #criterias,\n",
    "               'aerodynamic_coefficients':{}, #criterias, \n",
    "               'electric_motor_and_propeller_efficiencies':{}} #criterias}\n",
    "result = {'DT':{'flight_conditions':{}, #criterias, \n",
    "               'aircraft_electronics':{}, #criterias,\n",
    "               'aerodynamic_coefficients':{}, #criterias, \n",
    "               'electric_motor_and_propeller_efficiencies':{}}, \n",
    "          'ADBoost':{'flight_conditions':{}, #criterias, \n",
    "               'aircraft_electronics':{}, #criterias,\n",
    "               'aerodynamic_coefficients':{}, #criterias, \n",
    "               'electric_motor_and_propeller_efficiencies':{}}, \n",
    "          'GBoost':{'flight_conditions':{}, #criterias, \n",
    "               'aircraft_electronics':{}, #criterias,\n",
    "               'aerodynamic_coefficients':{}, #criterias, \n",
    "               'electric_motor_and_propeller_efficiencies':{}}, \n",
    "          'RF':{'flight_conditions':{}, #criterias, \n",
    "               'aircraft_electronics':{}, #criterias,\n",
    "               'aerodynamic_coefficients':{}, #criterias, \n",
    "               'electric_motor_and_propeller_efficiencies':{}}, }\n",
    "#           'SVR':{'flight_conditions':{}, #criterias, \n",
    "#                'aircraft_electronics':{}, #criterias,\n",
    "#                'aerodynamic_coefficients':{}, #criterias, \n",
    "#                'electric_motor_and_propeller_efficiencies':{}}, \n",
    "#           'MLP':{'flight_conditions':{}, #criterias, \n",
    "#                'aircraft_electronics':{}, #criterias,\n",
    "#                'aerodynamic_coefficients':{}, #criterias, \n",
    "#                'electric_motor_and_propeller_efficiencies':{}}, \n",
    "#           'LSTM':{'flight_conditions':{}, #criterias, \n",
    "#                'aircraft_electronics':{}, #criterias,\n",
    "#                'aerodynamic_coefficients':{}, #criterias, \n",
    "#                'electric_motor_and_propeller_efficiencies':{}}}\n",
    "fesibility_result = {'DT':{'fesibility':{}}, 'ADBoost':{'fesibility':{}}, \n",
    "                     'GBoost':{'fesibility':{}}, 'RF':{'fesibility':{}}, }\n",
    "#                      'SVC':{'fesibility':{}}, 'MLP':{'fesibility':{}}, 'LSTM':{'fesibility':{}}}\n",
    "lstm_results = {'range':{}, 'battery_energy':{}, 'voltage':{}, 'current':{}}"
   ]
  },
  {
   "cell_type": "markdown",
   "id": "61a0ab9e",
   "metadata": {
    "heading_collapsed": true
   },
   "source": [
    "# DecisionTreeRegressor"
   ]
  },
  {
   "cell_type": "markdown",
   "id": "cbc2a6e2",
   "metadata": {
    "heading_collapsed": true,
    "hidden": true
   },
   "source": [
    "## Flight Conditions"
   ]
  },
  {
   "cell_type": "code",
   "execution_count": 8,
   "id": "f4ee5230",
   "metadata": {
    "hidden": true
   },
   "outputs": [
    {
     "name": "stdout",
     "output_type": "stream",
     "text": [
      "0.9915857605177993\n"
     ]
    }
   ],
   "source": [
    "dataX = get_dataX()\n",
    "dataY = get_dataY('flight_conditions')\n",
    "datatestX = get_datatestX()\n",
    "datatestY = get_datatestY('flight_conditions')\n",
    "\n",
    "scorinngs = ['accuracy', 'f1', 'precision', 'recall']\n",
    "train_X = dataX\n",
    "y = dataY[:,5]\n",
    "clf = DecisionTreeClassifier(max_depth=32)\n",
    "y = y.astype(dtype=np.int8)\n",
    "scores = cross_validate(clf, train_X, y, cv=5, scoring=scorinngs, return_estimator=True)\n",
    "\n",
    "clf = scores['estimator'][np.argmin(scores['test_f1'])]\n",
    "\n",
    "weights = weights = [segment_weights[segment_type_encoder.inverse_transform([datatestX[i,3:14]])[0][0]] \n",
    "           for i in range(datatestX.shape[0])]\n",
    "acc = accuracy_score(datatestY[:,5], clf.predict(datatestX), sample_weight=weights)\n",
    "f1 = f1_score(datatestY[:,5], clf.predict(datatestX), sample_weight=weights)\n",
    "precision = precision_score(datatestY[:,5], clf.predict(datatestX), sample_weight=weights)\n",
    "recall = recall_score(datatestY[:,5], clf.predict(datatestX), sample_weight=weights)\n",
    "\n",
    "fesibility_result['DT']['fesibility']['accuracy'] = round(acc, 2)\n",
    "fesibility_result['DT']['fesibility']['f1'] = round(f1, 2)\n",
    "fesibility_result['DT']['fesibility']['precision'] = round(precision, 2)\n",
    "fesibility_result['DT']['fesibility']['recall'] = round(recall, 2)\n",
    "print(acc)"
   ]
  },
  {
   "cell_type": "code",
   "execution_count": 9,
   "id": "37a50ae1",
   "metadata": {
    "code_folding": [],
    "hidden": true
   },
   "outputs": [
    {
     "name": "stdout",
     "output_type": "stream",
     "text": [
      "0.0\n",
      "0.0\n",
      "0.04\n",
      "412.29\n"
     ]
    }
   ],
   "source": [
    "dataX = get_dataX()\n",
    "dataY = get_dataY('flight_conditions')\n",
    "datatestX = get_datatestX()\n",
    "datatestY = get_datatestY('flight_conditions')\n",
    "\n",
    "scorinngs = ['neg_mean_absolute_error', 'neg_mean_squared_error', 'neg_root_mean_squared_error',\n",
    "             'neg_mean_absolute_percentage_error', 'explained_variance', 'r2']\n",
    "best_estimators = []\n",
    "outputs = ['altitude(ft)', 'air speed(mph)', 'pitch angle(deg)', 'range(nmi)','fesibility']\n",
    "for output_indx, i in enumerate([0,1,2,3]):#,5]):\n",
    "    train_X = dataX\n",
    "    y = dataY[:,i]\n",
    "    if i!=5:\n",
    "        indxes = dataY[:,-1]==1\n",
    "        y = y[indxes]\n",
    "        train_X = dataX[indxes]\n",
    "    regr = DecisionTreeRegressor(max_depth=32)\n",
    "    scores = cross_validate(regr, train_X, y, cv=5, scoring=scorinngs, return_estimator=True)\n",
    "#     print(round(abs(np.mean(scores['test_neg_mean_squared_error'])), 4))\n",
    "    best_estimators.append(scores['estimator'][np.argmin(scores['test_neg_mean_squared_error'])])\n",
    "    \n",
    "    regr = scores['estimator'][np.argmin(scores['test_neg_mean_squared_error'])]\n",
    "    \n",
    "    indxes = datatestY[:,-1]==1\n",
    "    test_X = datatestX[indxes]\n",
    "    test_Y = datatestY[indxes]\n",
    "    \n",
    "    indxes = test_Y[:, i] > 10e-3\n",
    "    test_X = test_X[indxes]\n",
    "    test_Y = test_Y[indxes]\n",
    "\n",
    "    weights = weights = [segment_weights[segment_type_encoder.inverse_transform([test_X[i,3:14]])[0][0]] \n",
    "               for i in range(test_X.shape[0])]\n",
    "    mse = mean_squared_error(test_Y[:,i], regr.predict(test_X), sample_weight=weights)\n",
    "    mae = mean_absolute_error(test_Y[:,i], regr.predict(test_X), sample_weight=weights)\n",
    "    mape = mean_absolute_percentage_error(test_Y[:,i], regr.predict(test_X), sample_weight=weights)\n",
    "    \n",
    "    result['DT']['flight_conditions'][outputs[output_indx]] = {}\n",
    "    result['DT']['flight_conditions'][outputs[output_indx]]['MSE'] = round(mse,2)\n",
    "    result['DT']['flight_conditions'][outputs[output_indx]]['MAE'] = round(mae,2)\n",
    "    result['DT']['flight_conditions'][outputs[output_indx]]['MAPE'] = round(mape,2)\n",
    "    \n",
    "    print(round(mse,2))\n",
    "    \n",
    "\n",
    "# start_time = time.time()\n",
    "# testX, testY = get_data_for_inference('flight_conditions')\n",
    "# print(testX.shape, testY.shape)\n",
    "# pred_Y = None\n",
    "# for estimator in best_estimators:\n",
    "#     indxes = testY[:,-1]==1\n",
    "#     testY = testY[indxes]\n",
    "#     testX = testX[indxes]\n",
    "#     pred_y = estimator.predict(testX)\n",
    "# #     print(pred_y.shape)\n",
    "#     pred_Y = pred_y if pred_Y is None else np.vstack((pred_Y, pred_y))\n",
    "# print('Inference Time {}s'.format(time.time()-start_time))\n",
    "# pred_Y = pred_Y.T\n",
    "# # print(testY.shape, pred_Y.shape)\n",
    "# x_label = 'time(min)'\n",
    "# y_labels = ['altitude(ft)', 'air speed(mph)', 'pitch angle(deg)', 'range(nmi)','fesibility']\n",
    "# t = testY[:,4]\n",
    "# true_i = [0,1,2,3]#,5]\n",
    "# fig = plt.figure(figsize=(8,4), dpi=200)\n",
    "# for i in range(1,5):\n",
    "#     plt.subplot(2,2,i)\n",
    "#     plt.plot(t, pred_Y[:,i-1], label='predicted')\n",
    "#     plt.plot(t, testY[:,true_i[i-1]], label='ground truth')\n",
    "#     plt.xlabel(x_label)\n",
    "#     plt.ylabel(y_labels[i-1])\n",
    "#     plt.legend()\n",
    "# fig.tight_layout()"
   ]
  },
  {
   "cell_type": "markdown",
   "id": "344dd57f",
   "metadata": {
    "heading_collapsed": true,
    "hidden": true
   },
   "source": [
    "## Aerodynamic Coefficients"
   ]
  },
  {
   "cell_type": "code",
   "execution_count": 10,
   "id": "85ba3f0d",
   "metadata": {
    "code_folding": [],
    "hidden": true
   },
   "outputs": [
    {
     "name": "stdout",
     "output_type": "stream",
     "text": [
      "0.0\n",
      "0.0\n",
      "0.0\n",
      "0.0\n"
     ]
    }
   ],
   "source": [
    "dataX = get_dataX()\n",
    "dataY = get_dataY('aerodynamic_coefficients')\n",
    "datatestX = get_datatestX()\n",
    "datatestY = get_datatestY('aerodynamic_coefficients')\n",
    "\n",
    "scorinngs = ['neg_mean_absolute_error', 'neg_mean_squared_error', 'neg_root_mean_squared_error',\n",
    "             'neg_mean_absolute_percentage_error', 'explained_variance', 'r2']\n",
    "best_estimators = []\n",
    "outputs = ['CL', 'CD', 'AOA(deg)', 'L/D','fesibility']\n",
    "for output_indx, i in enumerate([0,1,2,3]):#,5]):\n",
    "    train_X = dataX\n",
    "    y = dataY[:,i]\n",
    "    if i!=5:\n",
    "        indxes = dataY[:,-1]==1\n",
    "        y = y[indxes]\n",
    "        train_X = dataX[indxes]\n",
    "    regr = DecisionTreeRegressor(max_depth=32)\n",
    "    scores = cross_validate(regr, train_X, y, cv=5, scoring=scorinngs, return_estimator=True)\n",
    "    best_estimators.append(scores['estimator'][np.argmin(scores['test_neg_mean_squared_error'])])\n",
    "    \n",
    "    regr = scores['estimator'][np.argmin(scores['test_neg_mean_squared_error'])]\n",
    "    \n",
    "    indxes = datatestY[:,-1]==1\n",
    "    test_X = datatestX[indxes]\n",
    "    test_Y = datatestY[indxes]\n",
    "    \n",
    "    indxes = test_Y[:, i] > 10e-3\n",
    "    test_X = test_X[indxes]\n",
    "    test_Y = test_Y[indxes]\n",
    "\n",
    "    weights = weights = [segment_weights[segment_type_encoder.inverse_transform([test_X[i,3:14]])[0][0]] \n",
    "               for i in range(test_X.shape[0])]\n",
    "    mse = mean_squared_error(test_Y[:,i], regr.predict(test_X), sample_weight=weights)\n",
    "    mae = mean_absolute_error(test_Y[:,i], regr.predict(test_X), sample_weight=weights)\n",
    "    mape = mean_absolute_percentage_error(test_Y[:,i], regr.predict(test_X), sample_weight=weights)\n",
    "    \n",
    "    result['DT']['aerodynamic_coefficients'][outputs[output_indx]] = {}\n",
    "    result['DT']['aerodynamic_coefficients'][outputs[output_indx]]['MSE'] = round(mse,2)\n",
    "    result['DT']['aerodynamic_coefficients'][outputs[output_indx]]['MAE'] = round(mae,2)\n",
    "    result['DT']['aerodynamic_coefficients'][outputs[output_indx]]['MAPE'] = round(mape,2)\n",
    "    \n",
    "    print(round(mse,2))\n",
    "        \n",
    "# testX, testY = get_data_for_inference('aerodynamic_coefficients')\n",
    "# print(testX.shape, testY.shape)\n",
    "# pred_Y = None\n",
    "# for estimator in best_estimators:\n",
    "#     indxes = testY[:,-1]==1\n",
    "#     testY = testY[indxes]\n",
    "#     testX = testX[indxes]\n",
    "#     pred_y = estimator.predict(testX)\n",
    "# #     print(pred_y.shape)\n",
    "#     pred_Y = pred_y if pred_Y is None else np.vstack((pred_Y, pred_y))\n",
    "# pred_Y = pred_Y.T\n",
    "# print(testY.shape, pred_Y.shape)\n",
    "# x_label = 'time(min)'\n",
    "# y_labels = ['CL', 'CD', 'AOA(deg)', 'L/D','fesibility']\n",
    "# t = testY[:,4]\n",
    "# true_i = [0,1,2,3]#,5]\n",
    "# fig = plt.figure(figsize=(8,4), dpi=200)\n",
    "# for i in range(1,5):\n",
    "#     plt.subplot(2,2,i)\n",
    "#     plt.plot(t, pred_Y[:,i-1], label='predicted')\n",
    "#     plt.plot(t, testY[:,true_i[i-1]], label='ground truth')\n",
    "#     plt.xlabel(x_label)\n",
    "#     plt.ylabel(y_labels[i-1])\n",
    "#     plt.legend()\n",
    "# fig.tight_layout()   "
   ]
  },
  {
   "cell_type": "markdown",
   "id": "dc440d35",
   "metadata": {
    "heading_collapsed": true,
    "hidden": true
   },
   "source": [
    "## Aircraft Electronics"
   ]
  },
  {
   "cell_type": "code",
   "execution_count": 11,
   "id": "49c69987",
   "metadata": {
    "code_folding": [],
    "hidden": true
   },
   "outputs": [
    {
     "name": "stdout",
     "output_type": "stream",
     "text": [
      "0.03\n",
      "283.08\n",
      "0.04\n",
      "364.97\n",
      "206.71\n",
      "67.45\n",
      "0.13\n",
      "0.17\n",
      "0.15\n"
     ]
    }
   ],
   "source": [
    "dataX = get_dataX()\n",
    "dataY = get_dataY('aircraft_electronics')\n",
    "datatestX = get_datatestX()\n",
    "datatestY = get_datatestY('aircraft_electronics')\n",
    "\n",
    "scorinngs = ['neg_mean_absolute_error', 'neg_mean_squared_error', 'neg_root_mean_squared_error',\n",
    "             'neg_mean_absolute_percentage_error', 'explained_variance', 'r2']\n",
    "best_estimators = []\n",
    "outputs = ['SOC', 'battery energy(kwh)', 'battery power(kw)', 'voltage(v)', 'voltage oc(v)', 'current(a)', \n",
    "            'C Rating instant', 'C Rating nominal', 'specific power', 'fesibility']\n",
    "for output_indx, i in enumerate([0,1,2,3,4,5,6,7,8]):#,10]):\n",
    "    train_X = dataX\n",
    "    y = dataY[:,i]\n",
    "    if i!=10:\n",
    "        indxes = dataY[:,-1]==1\n",
    "        y = y[indxes]\n",
    "        train_X = dataX[indxes]\n",
    "    regr = DecisionTreeRegressor(max_depth=32)\n",
    "    scores = cross_validate(regr, train_X, y, cv=5, scoring=scorinngs, return_estimator=True)\n",
    "    best_estimators.append(scores['estimator'][np.argmin(scores['test_neg_mean_squared_error'])])\n",
    "    \n",
    "    regr = scores['estimator'][np.argmin(scores['test_neg_mean_squared_error'])]\n",
    "    \n",
    "    indxes = datatestY[:,-1]==1\n",
    "    test_X = datatestX[indxes]\n",
    "    test_Y = datatestY[indxes]\n",
    "    \n",
    "    indxes = test_Y[:, i] > 10e-3\n",
    "    test_X = test_X[indxes]\n",
    "    test_Y = test_Y[indxes]\n",
    "\n",
    "    weights = weights = [segment_weights[segment_type_encoder.inverse_transform([test_X[i,3:14]])[0][0]] \n",
    "               for i in range(test_X.shape[0])]\n",
    "    mse = mean_squared_error(test_Y[:,i], regr.predict(test_X), sample_weight=weights)\n",
    "    mae = mean_absolute_error(test_Y[:,i], regr.predict(test_X), sample_weight=weights)\n",
    "    mape = mean_absolute_percentage_error(test_Y[:,i], regr.predict(test_X), sample_weight=weights)\n",
    "    \n",
    "    result['DT']['aircraft_electronics'][outputs[output_indx]] = {}\n",
    "    result['DT']['aircraft_electronics'][outputs[output_indx]]['MSE'] = round(mse,2)\n",
    "    result['DT']['aircraft_electronics'][outputs[output_indx]]['MAE'] = round(mae,2)\n",
    "    result['DT']['aircraft_electronics'][outputs[output_indx]]['MAPE'] = round(mape,2)\n",
    "    \n",
    "    print(round(mse,2))\n",
    "\n",
    "    \n",
    "# testX, testY = get_data_for_inference('aircraft_electronics')\n",
    "# print(testX.shape, testY.shape)\n",
    "# pred_Y = None\n",
    "# for estimator in best_estimators:\n",
    "#     indxes = testY[:,-1]==1\n",
    "#     testY = testY[indxes]\n",
    "#     testX = testX[indxes]\n",
    "#     pred_y = estimator.predict(testX)\n",
    "# #     print(pred_y.shape)\n",
    "#     pred_Y = pred_y if pred_Y is None else np.vstack((pred_Y, pred_y))\n",
    "# pred_Y = pred_Y.T\n",
    "# print(testY.shape, pred_Y.shape)\n",
    "# x_label = 'time(min)'\n",
    "# y_labels = ['SOC', 'battery energy(kwh)', 'battery power(kw)', 'voltage(v)', 'voltage oc(v)', 'current(a)', \n",
    "#             'C Rating instant', 'C Rating nominal', 'specific power', 'fesibility']\n",
    "# t = testY[:,9]\n",
    "# true_i = [0,1,2,3,4,5,6,7,8]#,10]\n",
    "# fig = plt.figure(figsize=(8,10), dpi=200)\n",
    "# for i in range(1,10):\n",
    "#     plt.subplot(5,2,i)\n",
    "#     plt.plot(t, pred_Y[:,i-1], label='predicted')\n",
    "#     plt.plot(t, testY[:,true_i[i-1]], label='ground truth')\n",
    "#     plt.xlabel(x_label)\n",
    "#     plt.ylabel(y_labels[i-1])\n",
    "#     plt.legend()\n",
    "# fig.tight_layout()\n",
    "   "
   ]
  },
  {
   "cell_type": "markdown",
   "id": "a8472a96",
   "metadata": {
    "heading_collapsed": true,
    "hidden": true
   },
   "source": [
    "## Electric motor and propeller efficiencies "
   ]
  },
  {
   "cell_type": "code",
   "execution_count": 12,
   "id": "b81e3478",
   "metadata": {
    "code_folding": [],
    "hidden": true
   },
   "outputs": [
    {
     "name": "stdout",
     "output_type": "stream",
     "text": [
      "0.0\n",
      "0.0\n",
      "8.32\n",
      "22.76\n",
      "94.42\n",
      "0.0\n",
      "0.0\n",
      "0.0\n",
      "0.08\n",
      "0.0\n",
      "0.0\n",
      "0.0\n",
      "0.0\n",
      "0.0\n",
      "0.0\n",
      "0.0\n"
     ]
    }
   ],
   "source": [
    "dataX = get_dataX()\n",
    "dataY = get_dataY('electric_motor_and_propeller_efficiencies')\n",
    "datatestX = get_datatestX()\n",
    "datatestY = get_datatestY('electric_motor_and_propeller_efficiencies')\n",
    "\n",
    "scorinngs = ['neg_mean_absolute_error', 'neg_mean_squared_error', 'neg_root_mean_squared_error',\n",
    "             'neg_mean_absolute_percentage_error', 'explained_variance', 'r2']\n",
    "best_estimators = []\n",
    "outputs = ['propeller throttle', 'lift throttle', 'propeller rpm', 'propeller thrust(N)',\n",
    "            'propeller torque(Nm)', 'propeller efficiency', 'propeller motor efficiency',\n",
    "            'propeller power coefficient', 'lift rotor rpm', 'lift thrust(N)', 'lift torque(Nm)',\n",
    "            'lift efficiency', 'lift motor efficiency', 'lift power coefficient', 'propeller tip mach', \n",
    "            'lift tip mach', 'fesibility']\n",
    "for output_indx, i in enumerate([0,1,2,3,4,5,6,7,8,9,10,11,12,13,14,15]):#,17]):\n",
    "    train_X = dataX\n",
    "    y = dataY[:,i]\n",
    "    if i!=10:\n",
    "        indxes = dataY[:,-1]==1\n",
    "        y = y[indxes]\n",
    "        train_X = dataX[indxes]\n",
    "    regr = DecisionTreeRegressor(max_depth=32)\n",
    "    scores = cross_validate(regr, train_X, y, cv=5, scoring=scorinngs, return_estimator=True)\n",
    "    best_estimators.append(scores['estimator'][np.argmin(scores['test_neg_mean_squared_error'])])\n",
    "    \n",
    "    regr = scores['estimator'][np.argmin(scores['test_neg_mean_squared_error'])]\n",
    "    \n",
    "    indxes = datatestY[:,-1]==1\n",
    "    test_X = datatestX[indxes]\n",
    "    test_Y = datatestY[indxes]\n",
    "    \n",
    "    indxes = test_Y[:, i] > 10e-3\n",
    "    test_X = test_X[indxes]\n",
    "    test_Y = test_Y[indxes]\n",
    "\n",
    "    weights = weights = [segment_weights[segment_type_encoder.inverse_transform([test_X[i,3:14]])[0][0]] \n",
    "               for i in range(test_X.shape[0])]\n",
    "    mse = mean_squared_error(test_Y[:,i], regr.predict(test_X), sample_weight=weights)\n",
    "    mae = mean_absolute_error(test_Y[:,i], regr.predict(test_X), sample_weight=weights)\n",
    "    mape = mean_absolute_percentage_error(test_Y[:,i], regr.predict(test_X), sample_weight=weights)\n",
    "    \n",
    "    result['DT']['electric_motor_and_propeller_efficiencies'][outputs[output_indx]] = {}\n",
    "    result['DT']['electric_motor_and_propeller_efficiencies'][outputs[output_indx]]['MSE'] = round(mse,2)\n",
    "    result['DT']['electric_motor_and_propeller_efficiencies'][outputs[output_indx]]['MAE'] = round(mae,2)\n",
    "    result['DT']['electric_motor_and_propeller_efficiencies'][outputs[output_indx]]['MAPE'] = round(mape,2)\n",
    "    \n",
    "    print(round(mse,2))\n",
    "\n",
    "    \n",
    "# testX, testY = get_data_for_inference('electric_motor_and_propeller_efficiencies')\n",
    "# print(testX.shape, testY.shape)\n",
    "# pred_Y = None\n",
    "# for estimator in best_estimators:\n",
    "#     indxes = testY[:,-1]==1\n",
    "#     testY = testY[indxes]\n",
    "#     testX = testX[indxes]\n",
    "#     pred_y = estimator.predict(testX)\n",
    "# #     print(pred_y.shape)\n",
    "#     pred_Y = pred_y if pred_Y is None else np.vstack((pred_Y, pred_y))\n",
    "# pred_Y = pred_Y.T\n",
    "# print(testY.shape, pred_Y.shape)\n",
    "# x_label = 'time(min)'\n",
    "# y_labels = ['propeller throttle', 'lift throttle', 'propeller rpm', 'propeller thrust(N)',\n",
    "#             'propeller torque(Nm)', 'propeller efficiency', 'propeller motor efficiency',\n",
    "#             'propeller power coefficient', 'lift rotor rpm', 'lift thrust(N)', 'lift torque(Nm)',\n",
    "#             'lift efficiency', 'lift motor efficiency', 'lift power coefficient', 'propeller tip mach', \n",
    "#             'lift tip mach', 'fesibility']\n",
    "# t = testY[:,16]\n",
    "# true_i = [0,1,2,3,4,5,6,7,8,9,10,11,12,13,14,15]#,17]\n",
    "# fig = plt.figure(figsize=(8,16), dpi=200)\n",
    "# for i in range(1,17):\n",
    "#     plt.subplot(8,2,i)\n",
    "#     plt.plot(t, pred_Y[:,i-1], label='predicted')\n",
    "#     plt.plot(t, testY[:,true_i[i-1]], label='ground truth')\n",
    "#     plt.xlabel(x_label)\n",
    "#     plt.ylabel(y_labels[i-1])\n",
    "#     plt.legend()\n",
    "# fig.tight_layout()\n",
    "   "
   ]
  },
  {
   "cell_type": "markdown",
   "id": "157ef4ab",
   "metadata": {
    "heading_collapsed": true
   },
   "source": [
    "# AdaBoostRegressor"
   ]
  },
  {
   "cell_type": "markdown",
   "id": "0134c560",
   "metadata": {
    "heading_collapsed": true,
    "hidden": true
   },
   "source": [
    "## Flight Conditions"
   ]
  },
  {
   "cell_type": "code",
   "execution_count": 13,
   "id": "b56016f5",
   "metadata": {
    "hidden": true
   },
   "outputs": [
    {
     "name": "stdout",
     "output_type": "stream",
     "text": [
      "0.9922330097087378\n"
     ]
    }
   ],
   "source": [
    "dataX = get_dataX()\n",
    "dataY = get_dataY('flight_conditions')\n",
    "datatestX = get_datatestX()\n",
    "datatestY = get_datatestY('flight_conditions')\n",
    "\n",
    "scorinngs = ['accuracy', 'f1', 'precision', 'recall']\n",
    "train_X = dataX\n",
    "y = dataY[:,5]\n",
    "clf = AdaBoostClassifier(DecisionTreeClassifier(max_depth=8), n_estimators=300, \n",
    "                         random_state=np.random.RandomState(1))\n",
    "y = y.astype(dtype=np.int8)\n",
    "scores = cross_validate(clf, train_X, y, cv=5, scoring=scorinngs, return_estimator=True)\n",
    "\n",
    "clf = scores['estimator'][np.argmin(scores['test_f1'])]\n",
    "\n",
    "weights = weights = [segment_weights[segment_type_encoder.inverse_transform([datatestX[i,3:14]])[0][0]] \n",
    "           for i in range(datatestX.shape[0])]\n",
    "acc = accuracy_score(datatestY[:,5], clf.predict(datatestX), sample_weight=weights)\n",
    "f1 = f1_score(datatestY[:,5], clf.predict(datatestX), sample_weight=weights)\n",
    "precision = precision_score(datatestY[:,5], clf.predict(datatestX), sample_weight=weights)\n",
    "recall = recall_score(datatestY[:,5], clf.predict(datatestX), sample_weight=weights)\n",
    "\n",
    "fesibility_result['ADBoost']['fesibility']['accuracy'] = round(acc, 2)\n",
    "fesibility_result['ADBoost']['fesibility']['f1'] = round(f1, 2)\n",
    "fesibility_result['ADBoost']['fesibility']['precision'] = round(precision, 2)\n",
    "fesibility_result['ADBoost']['fesibility']['recall'] = round(recall, 2)\n",
    "print(acc)"
   ]
  },
  {
   "cell_type": "code",
   "execution_count": 14,
   "id": "ad6e6ebf",
   "metadata": {
    "code_folding": [
     30,
     41
    ],
    "hidden": true
   },
   "outputs": [
    {
     "name": "stdout",
     "output_type": "stream",
     "text": [
      "0.0\n",
      "0.01\n",
      "0.0\n",
      "171.75\n"
     ]
    }
   ],
   "source": [
    "dataX = get_dataX()\n",
    "dataY = get_dataY('flight_conditions')\n",
    "datatestX = get_datatestX()\n",
    "datatestY = get_datatestY('flight_conditions')\n",
    "\n",
    "scorinngs = ['neg_mean_absolute_error', 'neg_mean_squared_error', 'neg_root_mean_squared_error',\n",
    "             'neg_mean_absolute_percentage_error', 'explained_variance', 'r2']\n",
    "rng = np.random.RandomState(1)\n",
    "best_estimators = []\n",
    "outputs = ['altitude(ft)', 'air speed(mph)', 'pitch angle(deg)', 'range(nmi)','fesibility']\n",
    "for output_indx, i in enumerate([0,1,2,3]): #,5]):\n",
    "    train_X = dataX\n",
    "    y = dataY[:,i]\n",
    "    if i!=5:\n",
    "        indxes = dataY[:,-1]==1\n",
    "        y = y[indxes]\n",
    "        train_X = dataX[indxes]\n",
    "    regr = AdaBoostRegressor(DecisionTreeRegressor(max_depth=8), n_estimators=300, random_state=rng)\n",
    "    scores = cross_validate(regr, train_X, y, cv=5, scoring=scorinngs, return_estimator=True)\n",
    "    best_estimators.append(scores['estimator'][np.argmin(scores['test_neg_mean_squared_error'])])\n",
    "    \n",
    "    regr = scores['estimator'][np.argmin(scores['test_neg_mean_squared_error'])]\n",
    "    \n",
    "    indxes = datatestY[:,-1]==1\n",
    "    test_X = datatestX[indxes]\n",
    "    test_Y = datatestY[indxes]\n",
    "    \n",
    "    indxes = test_Y[:, i] > 10e-3\n",
    "    test_X = test_X[indxes]\n",
    "    test_Y = test_Y[indxes]\n",
    "\n",
    "    weights = weights = [segment_weights[segment_type_encoder.inverse_transform([test_X[i,3:14]])[0][0]] \n",
    "               for i in range(test_X.shape[0])]\n",
    "    mse = mean_squared_error(test_Y[:,i], regr.predict(test_X), sample_weight=weights)\n",
    "    mae = mean_absolute_error(test_Y[:,i], regr.predict(test_X), sample_weight=weights)\n",
    "    mape = mean_absolute_percentage_error(test_Y[:,i], regr.predict(test_X), sample_weight=weights)\n",
    "    \n",
    "    result['ADBoost']['flight_conditions'][outputs[output_indx]] = {}\n",
    "    result['ADBoost']['flight_conditions'][outputs[output_indx]]['MSE'] = round(mse,2)\n",
    "    result['ADBoost']['flight_conditions'][outputs[output_indx]]['MAE'] = round(mae,2)\n",
    "    result['ADBoost']['flight_conditions'][outputs[output_indx]]['MAPE'] = round(mape,2)\n",
    "    \n",
    "    print(round(mse,2))\n",
    "        \n",
    "            \n",
    "# testX, testY = get_data_for_inference('flight_conditions')\n",
    "# print(testX.shape, testY.shape)\n",
    "# pred_Y = None\n",
    "# for estimator in best_estimators:\n",
    "#     indxes = testY[:,-1]==1\n",
    "#     testY = testY[indxes]\n",
    "#     testX = testX[indxes]\n",
    "#     pred_y = estimator.predict(testX)\n",
    "# #     print(pred_y.shape)\n",
    "#     pred_Y = pred_y if pred_Y is None else np.vstack((pred_Y, pred_y))\n",
    "# pred_Y = pred_Y.T\n",
    "# # print(testY.shape, pred_Y.shape)\n",
    "# x_label = 'time(min)'\n",
    "# y_labels = ['altitude(ft)', 'air speed(mph)', 'pitch angle(deg)', 'range(nmi)','fesibility']\n",
    "# t = testY[:,4]\n",
    "# true_i = [0,1,2,3]#,5]\n",
    "# fig = plt.figure(figsize=(8,4), dpi=200)\n",
    "# for i in range(1,5):\n",
    "#     plt.subplot(2,2,i)\n",
    "#     plt.plot(t, pred_Y[:,i-1], label='predicted')\n",
    "#     plt.plot(t, testY[:,true_i[i-1]], label='ground truth')\n",
    "#     plt.xlabel(x_label)\n",
    "#     plt.ylabel(y_labels[i-1])\n",
    "#     plt.legend()\n",
    "# fig.tight_layout()\n"
   ]
  },
  {
   "cell_type": "markdown",
   "id": "2025b99f",
   "metadata": {
    "heading_collapsed": true,
    "hidden": true
   },
   "source": [
    "## Aerodynamic Coefficients"
   ]
  },
  {
   "cell_type": "code",
   "execution_count": 15,
   "id": "63c998fc",
   "metadata": {
    "code_folding": [
     30,
     41
    ],
    "hidden": true
   },
   "outputs": [
    {
     "name": "stdout",
     "output_type": "stream",
     "text": [
      "0.0\n",
      "0.0\n",
      "0.0\n",
      "0.0\n"
     ]
    }
   ],
   "source": [
    "dataX = get_dataX()\n",
    "dataY = get_dataY('aerodynamic_coefficients')\n",
    "datatestX = get_datatestX()\n",
    "datatestY = get_datatestY('aerodynamic_coefficients')\n",
    "\n",
    "scorinngs = ['neg_mean_absolute_error', 'neg_mean_squared_error', 'neg_root_mean_squared_error',\n",
    "             'neg_mean_absolute_percentage_error', 'explained_variance', 'r2']\n",
    "best_estimators = []\n",
    "outputs = ['CL', 'CD', 'AOA(deg)', 'L/D','fesibility']\n",
    "for output_indx, i in enumerate([0,1,2,3]):#,5]):\n",
    "    train_X = dataX\n",
    "    y = dataY[:,i]\n",
    "    if i!=5:\n",
    "        indxes = dataY[:,-1]==1\n",
    "        y = y[indxes]\n",
    "        train_X = dataX[indxes]\n",
    "    regr = AdaBoostRegressor(DecisionTreeRegressor(max_depth=8), n_estimators=300, \n",
    "                             random_state=np.random.RandomState(1))\n",
    "    scores = cross_validate(regr, train_X, y, cv=5, scoring=scorinngs, return_estimator=True)\n",
    "    best_estimators.append(scores['estimator'][np.argmin(scores['test_neg_mean_squared_error'])])\n",
    "    \n",
    "    regr = scores['estimator'][np.argmin(scores['test_neg_mean_squared_error'])]\n",
    "    \n",
    "    indxes = datatestY[:,-1]==1\n",
    "    test_X = datatestX[indxes]\n",
    "    test_Y = datatestY[indxes]\n",
    "    \n",
    "    indxes = test_Y[:, i] > 10e-3\n",
    "    test_X = test_X[indxes]\n",
    "    test_Y = test_Y[indxes]\n",
    "\n",
    "    weights = weights = [segment_weights[segment_type_encoder.inverse_transform([test_X[i,3:14]])[0][0]] \n",
    "               for i in range(test_X.shape[0])]\n",
    "    mse = mean_squared_error(test_Y[:,i], regr.predict(test_X), sample_weight=weights)\n",
    "    mae = mean_absolute_error(test_Y[:,i], regr.predict(test_X), sample_weight=weights)\n",
    "    mape = mean_absolute_percentage_error(test_Y[:,i], regr.predict(test_X), sample_weight=weights)\n",
    "    \n",
    "    result['ADBoost']['aerodynamic_coefficients'][outputs[output_indx]] = {}\n",
    "    result['ADBoost']['aerodynamic_coefficients'][outputs[output_indx]]['MSE'] = round(mse,2)\n",
    "    result['ADBoost']['aerodynamic_coefficients'][outputs[output_indx]]['MAE'] = round(mae,2)\n",
    "    result['ADBoost']['aerodynamic_coefficients'][outputs[output_indx]]['MAPE'] = round(mape,2)\n",
    "    \n",
    "    print(round(mse,2))\n",
    "        \n",
    "\n",
    "        \n",
    "# testX, testY = get_data_for_inference('aerodynamic_coefficients')\n",
    "# print(testX.shape, testY.shape)\n",
    "# pred_Y = None\n",
    "# for estimator in best_estimators:\n",
    "#     indxes = testY[:,-1]==1\n",
    "#     testY = testY[indxes]\n",
    "#     testX = testX[indxes]\n",
    "#     pred_y = estimator.predict(testX)\n",
    "# #     print(pred_y.shape)\n",
    "#     pred_Y = pred_y if pred_Y is None else np.vstack((pred_Y, pred_y))\n",
    "# pred_Y = pred_Y.T\n",
    "# print(testY.shape, pred_Y.shape)\n",
    "# x_label = 'time(min)'\n",
    "# y_labels = ['CL', 'CD', 'AOA(deg)', 'L/D','fesibility']\n",
    "# t = testY[:,4]\n",
    "# true_i = [0,1,2,3]#,5]\n",
    "# fig = plt.figure(figsize=(8,4), dpi=200)\n",
    "# for i in range(1,5):\n",
    "#     plt.subplot(2,2,i)\n",
    "#     plt.plot(t, pred_Y[:,i-1], label='predicted')\n",
    "#     plt.plot(t, testY[:,true_i[i-1]], label='ground truth')\n",
    "#     plt.xlabel(x_label)\n",
    "#     plt.ylabel(y_labels[i-1])\n",
    "#     plt.legend()\n",
    "# fig.tight_layout()"
   ]
  },
  {
   "cell_type": "markdown",
   "id": "e235197a",
   "metadata": {
    "heading_collapsed": true,
    "hidden": true
   },
   "source": [
    "## Aircraft Electronics"
   ]
  },
  {
   "cell_type": "code",
   "execution_count": 16,
   "id": "489bbe71",
   "metadata": {
    "code_folding": [
     43
    ],
    "hidden": true
   },
   "outputs": [
    {
     "name": "stdout",
     "output_type": "stream",
     "text": [
      "0.02\n",
      "209.4\n",
      "0.06\n",
      "269.35\n",
      "226.37\n",
      "46.1\n",
      "0.1\n",
      "0.24\n",
      "0.22\n"
     ]
    }
   ],
   "source": [
    "dataX = get_dataX()\n",
    "dataY = get_dataY('aircraft_electronics')\n",
    "datatestX = get_datatestX()\n",
    "datatestY = get_datatestY('aircraft_electronics')\n",
    "\n",
    "scorinngs = ['neg_mean_absolute_error', 'neg_mean_squared_error', 'neg_root_mean_squared_error',\n",
    "             'neg_mean_absolute_percentage_error', 'explained_variance', 'r2']\n",
    "best_estimators = []\n",
    "outputs = ['SOC', 'battery energy(kwh)', 'battery power(kw)', 'voltage(v)', 'voltage oc(v)', 'current(a)', \n",
    "            'C Rating instant', 'C Rating nominal', 'specific power', 'fesibility']\n",
    "for output_indx, i in enumerate([0,1,2,3,4,5,6,7,8]):#,10]):\n",
    "    train_X = dataX\n",
    "    y = dataY[:,i]\n",
    "    if i!=10:\n",
    "        indxes = dataY[:,-1]==1\n",
    "        y = y[indxes]\n",
    "        train_X = dataX[indxes]\n",
    "    regr = AdaBoostRegressor(DecisionTreeRegressor(max_depth=8), n_estimators=300, \n",
    "                             random_state=np.random.RandomState(1))\n",
    "    scores = cross_validate(regr, train_X, y, cv=5, scoring=scorinngs, return_estimator=True)\n",
    "    best_estimators.append(scores['estimator'][np.argmin(scores['test_neg_mean_squared_error'])])\n",
    "    \n",
    "    regr = scores['estimator'][np.argmin(scores['test_neg_mean_squared_error'])]\n",
    "    \n",
    "    indxes = datatestY[:,-1]==1\n",
    "    test_X = datatestX[indxes]\n",
    "    test_Y = datatestY[indxes]\n",
    "    \n",
    "    indxes = test_Y[:, i] > 10e-3\n",
    "    test_X = test_X[indxes]\n",
    "    test_Y = test_Y[indxes]\n",
    "\n",
    "    weights = weights = [segment_weights[segment_type_encoder.inverse_transform([test_X[i,3:14]])[0][0]] \n",
    "               for i in range(test_X.shape[0])]\n",
    "    mse = mean_squared_error(test_Y[:,i], regr.predict(test_X), sample_weight=weights)\n",
    "    mae = mean_absolute_error(test_Y[:,i], regr.predict(test_X), sample_weight=weights)\n",
    "    mape = mean_absolute_percentage_error(test_Y[:,i], regr.predict(test_X), sample_weight=weights)\n",
    "    \n",
    "    result['ADBoost']['aircraft_electronics'][outputs[output_indx]] = {}\n",
    "    result['ADBoost']['aircraft_electronics'][outputs[output_indx]]['MSE'] = round(mse,2)\n",
    "    result['ADBoost']['aircraft_electronics'][outputs[output_indx]]['MAE'] = round(mae,2)\n",
    "    result['ADBoost']['aircraft_electronics'][outputs[output_indx]]['MAPE'] = round(mape,2)\n",
    "    \n",
    "    print(round(mse,2))\n",
    "        \n",
    "\n",
    "# testX, testY = get_data_for_inference('aircraft_electronics')\n",
    "# print(testX.shape, testY.shape)\n",
    "# pred_Y = None\n",
    "# for estimator in best_estimators:\n",
    "#     indxes = testY[:,-1]==1\n",
    "#     testY = testY[indxes]\n",
    "#     testX = testX[indxes]\n",
    "#     pred_y = estimator.predict(testX)\n",
    "# #     print(pred_y.shape)\n",
    "#     pred_Y = pred_y if pred_Y is None else np.vstack((pred_Y, pred_y))\n",
    "# pred_Y = pred_Y.T\n",
    "# print(testY.shape, pred_Y.shape)\n",
    "# x_label = 'time(min)'\n",
    "# y_labels = ['SOC', 'battery energy(kwh)', 'battery power(kw)', 'voltage(v)', 'voltage oc(v)', 'current(a)', \n",
    "#             'C Rating instant', 'C Rating nominal', 'specific power', 'fesibility']\n",
    "# t = testY[:,9]\n",
    "# true_i = [0,1,2,3,4,5,6,7,8]#,10]\n",
    "# fig = plt.figure(figsize=(8,10), dpi=200)\n",
    "# for i in range(1,10):\n",
    "#     plt.subplot(5,2,i)\n",
    "#     plt.plot(t, pred_Y[:,i-1], label='predicted')\n",
    "#     plt.plot(t, testY[:,true_i[i-1]], label='ground truth')\n",
    "#     plt.xlabel(x_label)\n",
    "#     plt.ylabel(y_labels[i-1])\n",
    "#     plt.legend()\n",
    "# fig.tight_layout()"
   ]
  },
  {
   "cell_type": "markdown",
   "id": "c6ceeaab",
   "metadata": {
    "heading_collapsed": true,
    "hidden": true
   },
   "source": [
    "## Electric motor and propeller efficiencies"
   ]
  },
  {
   "cell_type": "code",
   "execution_count": 17,
   "id": "7ba54e79",
   "metadata": {
    "code_folding": [
     49
    ],
    "hidden": true
   },
   "outputs": [
    {
     "name": "stdout",
     "output_type": "stream",
     "text": [
      "0.0\n",
      "0.0\n",
      "10.01\n",
      "29.35\n",
      "50.95\n",
      "0.0\n",
      "0.0\n",
      "0.0\n",
      "0.08\n",
      "0.0\n",
      "0.0\n",
      "0.0\n",
      "0.0\n",
      "0.0\n",
      "0.0\n",
      "0.0\n"
     ]
    }
   ],
   "source": [
    "dataX = get_dataX()\n",
    "dataY = get_dataY('electric_motor_and_propeller_efficiencies')\n",
    "datatestX = get_datatestX()\n",
    "datatestY = get_datatestY('electric_motor_and_propeller_efficiencies')\n",
    "\n",
    "scorinngs = ['neg_mean_absolute_error', 'neg_mean_squared_error', 'neg_root_mean_squared_error',\n",
    "             'neg_mean_absolute_percentage_error', 'explained_variance', 'r2']\n",
    "best_estimators = []\n",
    "outputs = ['propeller throttle', 'lift throttle', 'propeller rpm', 'propeller thrust(N)',\n",
    "            'propeller torque(Nm)', 'propeller efficiency', 'propeller motor efficiency',\n",
    "            'propeller power coefficient', 'lift rotor rpm', 'lift thrust(N)', 'lift torque(Nm)',\n",
    "            'lift efficiency', 'lift motor efficiency', 'lift power coefficient', 'propeller tip mach', \n",
    "            'lift tip mach', 'fesibility']\n",
    "for output_indx, i in enumerate([0,1,2,3,4,5,6,7,8,9,10,11,12,13,14,15]):#,17]):\n",
    "    train_X = dataX\n",
    "    y = dataY[:,i]\n",
    "    if i!=10:\n",
    "        indxes = dataY[:,-1]==1\n",
    "        y = y[indxes]\n",
    "        train_X = dataX[indxes]\n",
    "    regr = AdaBoostRegressor(DecisionTreeRegressor(max_depth=8), n_estimators=300, \n",
    "                             random_state=np.random.RandomState(1))\n",
    "    scores = cross_validate(regr, train_X, y, cv=5, scoring=scorinngs, return_estimator=True)\n",
    "    best_estimators.append(scores['estimator'][np.argmin(scores['test_neg_mean_squared_error'])])\n",
    "    \n",
    "    regr = scores['estimator'][np.argmin(scores['test_neg_mean_squared_error'])]\n",
    "    \n",
    "    indxes = datatestY[:,-1]==1\n",
    "    test_X = datatestX[indxes]\n",
    "    test_Y = datatestY[indxes]\n",
    "    \n",
    "    indxes = test_Y[:, i] > 10e-3\n",
    "    test_X = test_X[indxes]\n",
    "    test_Y = test_Y[indxes]\n",
    "\n",
    "    weights = weights = [segment_weights[segment_type_encoder.inverse_transform([test_X[i,3:14]])[0][0]] \n",
    "               for i in range(test_X.shape[0])]\n",
    "    mse = mean_squared_error(test_Y[:,i], regr.predict(test_X), sample_weight=weights)\n",
    "    mae = mean_absolute_error(test_Y[:,i], regr.predict(test_X), sample_weight=weights)\n",
    "    mape = mean_absolute_percentage_error(test_Y[:,i], regr.predict(test_X), sample_weight=weights)\n",
    "    \n",
    "    result['ADBoost']['electric_motor_and_propeller_efficiencies'][outputs[output_indx]] = {}\n",
    "    result['ADBoost']['electric_motor_and_propeller_efficiencies'][outputs[output_indx]]['MSE'] = round(mse,2)\n",
    "    result['ADBoost']['electric_motor_and_propeller_efficiencies'][outputs[output_indx]]['MAE'] = round(mae,2)\n",
    "    result['ADBoost']['electric_motor_and_propeller_efficiencies'][outputs[output_indx]]['MAPE'] = round(mape,2)\n",
    "    \n",
    "    print(round(mse,2))\n",
    "    \n",
    "\n",
    "# testX, testY = get_data_for_inference('electric_motor_and_propeller_efficiencies')\n",
    "# print(testX.shape, testY.shape)\n",
    "# pred_Y = None\n",
    "# for estimator in best_estimators:\n",
    "#     indxes = testY[:,-1]==1\n",
    "#     testY = testY[indxes]\n",
    "#     testX = testX[indxes]\n",
    "#     pred_y = estimator.predict(testX)\n",
    "# #     print(pred_y.shape)\n",
    "#     pred_Y = pred_y if pred_Y is None else np.vstack((pred_Y, pred_y))\n",
    "# pred_Y = pred_Y.T\n",
    "# print(testY.shape, pred_Y.shape)\n",
    "# x_label = 'time(min)'\n",
    "# y_labels = ['propeller throttle', 'lift throttle', 'propeller rpm', 'propeller thrust(N)',\n",
    "#             'propeller torque(Nm)', 'propeller efficiency', 'propeller motor efficiency',\n",
    "#             'propeller power coefficient', 'lift rotor rpm', 'lift thrust(N)', 'lift torque(Nm)',\n",
    "#             'lift efficiency', 'lift motor efficiency', 'lift power coefficient', 'propeller tip mach', \n",
    "#             'lift tip mach', 'fesibility']\n",
    "# t = testY[:,16]\n",
    "# true_i = [0,1,2,3,4,5,6,7,8,9,10,11,12,13,14,15]#,17]\n",
    "# fig = plt.figure(figsize=(8,16), dpi=200)\n",
    "# for i in range(1,17):\n",
    "#     plt.subplot(8,2,i)\n",
    "#     plt.plot(t, pred_Y[:,i-1], label='predicted')\n",
    "#     plt.plot(t, testY[:,true_i[i-1]], label='ground truth')\n",
    "#     plt.xlabel(x_label)\n",
    "#     plt.ylabel(y_labels[i-1])\n",
    "#     plt.legend()\n",
    "# fig.tight_layout()"
   ]
  },
  {
   "cell_type": "markdown",
   "id": "c95f0c78",
   "metadata": {
    "heading_collapsed": true
   },
   "source": [
    "# GradientBoostingRegressor"
   ]
  },
  {
   "cell_type": "markdown",
   "id": "a4486e4f",
   "metadata": {
    "heading_collapsed": true,
    "hidden": true
   },
   "source": [
    "## Flight Conditions"
   ]
  },
  {
   "cell_type": "code",
   "execution_count": 18,
   "id": "a23b8787",
   "metadata": {
    "hidden": true
   },
   "outputs": [
    {
     "name": "stdout",
     "output_type": "stream",
     "text": [
      "0.9922330097087378\n"
     ]
    }
   ],
   "source": [
    "dataX = get_dataX()\n",
    "dataY = get_dataY('flight_conditions')\n",
    "datatestX = get_datatestX()\n",
    "datatestY = get_datatestY('flight_conditions')\n",
    "\n",
    "scorinngs = ['accuracy', 'f1', 'precision', 'recall']\n",
    "train_X = dataX\n",
    "y = dataY[:,5]\n",
    "clf = GradientBoostingClassifier(random_state=0)\n",
    "y = y.astype(dtype=np.int8)\n",
    "scores = cross_validate(clf, train_X, y, cv=5, scoring=scorinngs, return_estimator=True)\n",
    "clf = scores['estimator'][np.argmin(scores['test_f1'])]\n",
    "\n",
    "weights = weights = [segment_weights[segment_type_encoder.inverse_transform([datatestX[i,3:14]])[0][0]] \n",
    "           for i in range(datatestX.shape[0])]\n",
    "acc = accuracy_score(datatestY[:,5], clf.predict(datatestX), sample_weight=weights)\n",
    "f1 = f1_score(datatestY[:,5], clf.predict(datatestX), sample_weight=weights)\n",
    "precision = precision_score(datatestY[:,5], clf.predict(datatestX), sample_weight=weights)\n",
    "recall = recall_score(datatestY[:,5], clf.predict(datatestX), sample_weight=weights)\n",
    "\n",
    "fesibility_result['GBoost']['fesibility']['accuracy'] = round(acc, 2)\n",
    "fesibility_result['GBoost']['fesibility']['f1'] = round(f1, 2)\n",
    "fesibility_result['GBoost']['fesibility']['precision'] = round(precision, 2)\n",
    "fesibility_result['GBoost']['fesibility']['recall'] = round(recall, 2)\n",
    "print(acc)"
   ]
  },
  {
   "cell_type": "code",
   "execution_count": 19,
   "id": "04b6f8d9",
   "metadata": {
    "code_folding": [
     40
    ],
    "hidden": true
   },
   "outputs": [
    {
     "name": "stdout",
     "output_type": "stream",
     "text": [
      "0.0\n",
      "0.03\n",
      "0.01\n",
      "127.43\n"
     ]
    }
   ],
   "source": [
    "dataX = get_dataX()\n",
    "dataY = get_dataY('flight_conditions')\n",
    "datatestX = get_datatestX()\n",
    "datatestY = get_datatestY('flight_conditions')\n",
    "\n",
    "scorinngs = ['neg_mean_absolute_error', 'neg_mean_squared_error', 'neg_root_mean_squared_error',\n",
    "             'neg_mean_absolute_percentage_error', 'explained_variance', 'r2']\n",
    "best_estimators = []\n",
    "outputs = ['altitude(ft)', 'air speed(mph)', 'pitch angle(deg)', 'range(nmi)', 'fesibility']\n",
    "for output_indx, i in enumerate([0,1,2,3]):#,5]):\n",
    "    train_X = dataX\n",
    "    y = dataY[:,i]\n",
    "    if i!=5:\n",
    "        indxes = dataY[:,-1]==1\n",
    "        y = y[indxes]\n",
    "        train_X = dataX[indxes]\n",
    "    regr = GradientBoostingRegressor(random_state=0)\n",
    "    scores = cross_validate(regr, train_X, y, cv=5, scoring=scorinngs, return_estimator=True)\n",
    "    best_estimators.append(scores['estimator'][np.argmin(scores['test_neg_mean_squared_error'])])\n",
    "    \n",
    "    regr = scores['estimator'][np.argmin(scores['test_neg_mean_squared_error'])]\n",
    "    \n",
    "    indxes = datatestY[:,-1]==1\n",
    "    test_X = datatestX[indxes]\n",
    "    test_Y = datatestY[indxes]\n",
    "    \n",
    "    indxes = test_Y[:, i] > 10e-3\n",
    "    test_X = test_X[indxes]\n",
    "    test_Y = test_Y[indxes]\n",
    "    \n",
    "    \n",
    "\n",
    "    weights = weights = [segment_weights[segment_type_encoder.inverse_transform([test_X[i,3:14]])[0][0]] \n",
    "               for i in range(test_X.shape[0])]\n",
    "    \n",
    "    mse = mean_squared_error(test_Y[:,i], regr.predict(test_X), sample_weight=weights)\n",
    "    mae = mean_absolute_error(test_Y[:,i], regr.predict(test_X), sample_weight=weights)\n",
    "    mape = mean_absolute_percentage_error(test_Y[:,i], regr.predict(test_X), sample_weight=weights)\n",
    "    \n",
    "    result['GBoost']['flight_conditions'][outputs[output_indx]] = {}\n",
    "    result['GBoost']['flight_conditions'][outputs[output_indx]]['MSE'] = round(mse,2)\n",
    "    result['GBoost']['flight_conditions'][outputs[output_indx]]['MAE'] = round(mae,2)\n",
    "    result['GBoost']['flight_conditions'][outputs[output_indx]]['MAPE'] = round(mape,2)\n",
    "    \n",
    "    print(round(mse,2))\n",
    "        \n",
    "\n",
    "        \n",
    "# testX, testY = get_data_for_inference('flight_conditions')\n",
    "# print(testX.shape, testY.shape)\n",
    "# pred_Y = None\n",
    "# for estimator in best_estimators:\n",
    "#     indxes = testY[:,-1]==1\n",
    "#     testY = testY[indxes]\n",
    "#     testX = testX[indxes]\n",
    "#     pred_y = estimator.predict(testX)\n",
    "# #     print(pred_y.shape)\n",
    "#     pred_Y = pred_y if pred_Y is None else np.vstack((pred_Y, pred_y))\n",
    "# pred_Y = pred_Y.T\n",
    "# # print(testY.shape, pred_Y.shape)\n",
    "# x_label = 'time(min)'\n",
    "# y_labels = ['altitude(ft)', 'air speed(mph)', 'pitch angle(deg)', 'range(nmi)', 'fesibility']\n",
    "# t = testY[:,4]\n",
    "# true_i = [0,1,2,3]#,5]\n",
    "# fig = plt.figure(figsize=(8,4), dpi=200)\n",
    "# for i in range(1,5):\n",
    "#     plt.subplot(2,2,i)\n",
    "#     plt.plot(t, pred_Y[:,i-1], label='predicted')\n",
    "#     plt.plot(t, testY[:,true_i[i-1]], label='ground truth')\n",
    "#     plt.xlabel(x_label)\n",
    "#     plt.ylabel(y_labels[i-1])\n",
    "#     plt.legend()\n",
    "# fig.tight_layout()\n"
   ]
  },
  {
   "cell_type": "markdown",
   "id": "12ef4e6b",
   "metadata": {
    "heading_collapsed": true,
    "hidden": true
   },
   "source": [
    "## Aerodynamic Coefficients"
   ]
  },
  {
   "cell_type": "code",
   "execution_count": 20,
   "id": "04609f23",
   "metadata": {
    "code_folding": [
     29,
     40
    ],
    "hidden": true
   },
   "outputs": [
    {
     "name": "stdout",
     "output_type": "stream",
     "text": [
      "0.0\n",
      "0.0\n",
      "0.01\n",
      "0.0\n"
     ]
    }
   ],
   "source": [
    "dataX = get_dataX()\n",
    "dataY = get_dataY('aerodynamic_coefficients')\n",
    "datatestX = get_datatestX()\n",
    "datatestY = get_datatestY('aerodynamic_coefficients')\n",
    "\n",
    "scorinngs = ['neg_mean_absolute_error', 'neg_mean_squared_error', 'neg_root_mean_squared_error',\n",
    "             'neg_mean_absolute_percentage_error', 'explained_variance', 'r2']\n",
    "best_estimators = []\n",
    "outputs = ['CL', 'CD', 'AOA(deg)', 'L/D','fesibility']\n",
    "for output_indx, i in enumerate([0,1,2,3]):#,5]):\n",
    "    train_X = dataX\n",
    "    y = dataY[:,i]\n",
    "    if i!=5:\n",
    "        indxes = dataY[:,-1]==1\n",
    "        y = y[indxes]\n",
    "        train_X = dataX[indxes]\n",
    "    regr = GradientBoostingRegressor(random_state=0)\n",
    "    scores = cross_validate(regr, train_X, y, cv=5, scoring=scorinngs, return_estimator=True)\n",
    "    best_estimators.append(scores['estimator'][np.argmin(scores['test_neg_mean_squared_error'])])\n",
    "        \n",
    "    regr = scores['estimator'][np.argmin(scores['test_neg_mean_squared_error'])]\n",
    "    \n",
    "    indxes = datatestY[:,-1]==1\n",
    "    test_X = datatestX[indxes]\n",
    "    test_Y = datatestY[indxes]\n",
    "    \n",
    "    indxes = abs(test_Y[:, i]) > 10e-3\n",
    "    test_X = test_X[indxes]\n",
    "    test_Y = test_Y[indxes]\n",
    "\n",
    "    weights = weights = [segment_weights[segment_type_encoder.inverse_transform([test_X[i,3:14]])[0][0]] \n",
    "               for i in range(test_X.shape[0])]\n",
    "    \n",
    "    mse = mean_squared_error(test_Y[:,i], regr.predict(test_X), sample_weight=weights)\n",
    "    mae = mean_absolute_error(test_Y[:,i], regr.predict(test_X), sample_weight=weights)\n",
    "    mape = mean_absolute_percentage_error(test_Y[:,i], regr.predict(test_X), sample_weight=weights)\n",
    "    \n",
    "    result['GBoost']['aerodynamic_coefficients'][outputs[output_indx]] = {}\n",
    "    result['GBoost']['aerodynamic_coefficients'][outputs[output_indx]]['MSE'] = round(mse,2)\n",
    "    result['GBoost']['aerodynamic_coefficients'][outputs[output_indx]]['MAE'] = round(mae,2)\n",
    "    result['GBoost']['aerodynamic_coefficients'][outputs[output_indx]]['MAPE'] = round(mape,2)\n",
    "    \n",
    "    print(round(mse,2))\n",
    "\n",
    "# testX, testY = get_data_for_inference('aerodynamic_coefficients')\n",
    "# print(testX.shape, testY.shape)\n",
    "# pred_Y = None\n",
    "# for estimator in best_estimators:\n",
    "#     indxes = testY[:,-1]==1\n",
    "#     testY = testY[indxes]\n",
    "#     testX = testX[indxes]\n",
    "#     pred_y = estimator.predict(testX)\n",
    "# #     print(pred_y.shape)\n",
    "#     pred_Y = pred_y if pred_Y is None else np.vstack((pred_Y, pred_y))\n",
    "# pred_Y = pred_Y.T\n",
    "# print(testY.shape, pred_Y.shape)\n",
    "# x_label = 'time(min)'\n",
    "# y_labels = ['CL', 'CD', 'AOA(deg)', 'L/D','fesibility']\n",
    "# t = testY[:,4]\n",
    "# true_i = [0,1,2,3]#,5]\n",
    "# fig = plt.figure(figsize=(8,4), dpi=200)\n",
    "# for i in range(1,5):\n",
    "#     plt.subplot(2,2,i)\n",
    "#     plt.plot(t, pred_Y[:,i-1], label='predicted')\n",
    "#     plt.plot(t, testY[:,true_i[i-1]], label='ground truth')\n",
    "#     plt.xlabel(x_label)\n",
    "#     plt.ylabel(y_labels[i-1])\n",
    "#     plt.legend()\n",
    "# fig.tight_layout()"
   ]
  },
  {
   "cell_type": "markdown",
   "id": "3d89dbb6",
   "metadata": {
    "heading_collapsed": true,
    "hidden": true
   },
   "source": [
    "## Aircraft Electronics"
   ]
  },
  {
   "cell_type": "code",
   "execution_count": 21,
   "id": "bd87e42a",
   "metadata": {
    "code_folding": [
     30,
     42
    ],
    "hidden": true
   },
   "outputs": [
    {
     "name": "stdout",
     "output_type": "stream",
     "text": [
      "0.01\n",
      "85.48\n",
      "0.78\n",
      "106.08\n",
      "91.72\n",
      "21.75\n",
      "0.04\n",
      "0.04\n",
      "3.12\n"
     ]
    }
   ],
   "source": [
    "dataX = get_dataX()\n",
    "dataY = get_dataY('aircraft_electronics')\n",
    "datatestX = get_datatestX()\n",
    "datatestY = get_datatestY('aircraft_electronics')\n",
    "\n",
    "scorinngs = ['neg_mean_absolute_error', 'neg_mean_squared_error', 'neg_root_mean_squared_error',\n",
    "             'neg_mean_absolute_percentage_error', 'explained_variance', 'r2']\n",
    "best_estimators = []\n",
    "outputs = ['SOC', 'battery energy(kwh)', 'battery power(kw)', 'voltage(v)', 'voltage oc(v)', 'current(a)', \n",
    "            'C Rating instant', 'C Rating nominal', 'specific power', 'fesibility']\n",
    "for output_indx, i in enumerate([0,1,2,3,4,5,6,7,8]):#,10]):\n",
    "    train_X = dataX\n",
    "    y = dataY[:,i]\n",
    "    if i!=10:\n",
    "        indxes = dataY[:,-1]==1\n",
    "        y = y[indxes]\n",
    "        train_X = dataX[indxes]\n",
    "    regr = GradientBoostingRegressor(random_state=0)\n",
    "    scores = cross_validate(regr, train_X, y, cv=5, scoring=scorinngs, return_estimator=True)\n",
    "    best_estimators.append(scores['estimator'][np.argmin(scores['test_neg_mean_squared_error'])])\n",
    "    \n",
    "    regr = scores['estimator'][np.argmin(scores['test_neg_mean_squared_error'])]\n",
    "    \n",
    "    indxes = datatestY[:,-1]==1\n",
    "    test_X = datatestX[indxes]\n",
    "    test_Y = datatestY[indxes]\n",
    "    \n",
    "    indxes = abs(test_Y[:, i]) > 10e-3\n",
    "    test_X = test_X[indxes]\n",
    "    test_Y = test_Y[indxes]\n",
    "\n",
    "    weights = weights = [segment_weights[segment_type_encoder.inverse_transform([test_X[i,3:14]])[0][0]] \n",
    "               for i in range(test_X.shape[0])]\n",
    "    \n",
    "    mse = mean_squared_error(test_Y[:,i], regr.predict(test_X), sample_weight=weights)\n",
    "    mae = mean_absolute_error(test_Y[:,i], regr.predict(test_X), sample_weight=weights)\n",
    "    mape = mean_absolute_percentage_error(test_Y[:,i], regr.predict(test_X), sample_weight=weights)\n",
    "    \n",
    "    result['GBoost']['aircraft_electronics'][outputs[output_indx]] = {}\n",
    "    result['GBoost']['aircraft_electronics'][outputs[output_indx]]['MSE'] = round(mse,2)\n",
    "    result['GBoost']['aircraft_electronics'][outputs[output_indx]]['MAE'] = round(mae,2)\n",
    "    result['GBoost']['aircraft_electronics'][outputs[output_indx]]['MAPE'] = round(mape,2)\n",
    "    \n",
    "    print(round(mse,2))\n",
    "        \n",
    "\n",
    "# testX, testY = get_data_for_inference('aircraft_electronics')\n",
    "# print(testX.shape, testY.shape)\n",
    "# pred_Y = None\n",
    "# for estimator in best_estimators:\n",
    "#     indxes = testY[:,-1]==1\n",
    "#     testY = testY[indxes]\n",
    "#     testX = testX[indxes]\n",
    "#     pred_y = estimator.predict(testX)\n",
    "# #     print(pred_y.shape)\n",
    "#     pred_Y = pred_y if pred_Y is None else np.vstack((pred_Y, pred_y))\n",
    "# pred_Y = pred_Y.T\n",
    "# print(testY.shape, pred_Y.shape)\n",
    "# x_label = 'time(min)'\n",
    "# y_labels = ['SOC', 'battery energy(kwh)', 'battery power(kw)', 'voltage(v)', 'voltage oc(v)', 'current(a)', \n",
    "#             'C Rating instant', 'C Rating nominal', 'specific power', 'fesibility']\n",
    "# t = testY[:,9]\n",
    "# true_i = [0,1,2,3,4,5,6,7,8]#,10]\n",
    "# fig = plt.figure(figsize=(8,10), dpi=200)\n",
    "# for i in range(1,10):\n",
    "#     plt.subplot(5,2,i)\n",
    "#     plt.plot(t, pred_Y[:,i-1], label='predicted')\n",
    "#     plt.plot(t, testY[:,true_i[i-1]], label='ground truth')\n",
    "#     plt.xlabel(x_label)\n",
    "#     plt.ylabel(y_labels[i-1])\n",
    "#     plt.legend()\n",
    "# fig.tight_layout()"
   ]
  },
  {
   "cell_type": "markdown",
   "id": "4b39f425",
   "metadata": {
    "heading_collapsed": true,
    "hidden": true
   },
   "source": [
    "## Electric motor and propeller efficiencies"
   ]
  },
  {
   "cell_type": "code",
   "execution_count": 22,
   "id": "a9495105",
   "metadata": {
    "code_folding": [
     8,
     33,
     40,
     48
    ],
    "hidden": true
   },
   "outputs": [
    {
     "name": "stdout",
     "output_type": "stream",
     "text": [
      "0.0\n",
      "0.0\n",
      "20.43\n",
      "350.01\n",
      "26.12\n",
      "0.0\n",
      "0.0\n",
      "0.0\n",
      "0.11\n",
      "0.08\n",
      "0.0\n",
      "0.0\n",
      "0.0\n",
      "0.0\n",
      "0.0\n",
      "0.0\n"
     ]
    }
   ],
   "source": [
    "dataX = get_dataX()\n",
    "dataY = get_dataY('electric_motor_and_propeller_efficiencies')\n",
    "datatestX = get_datatestX()\n",
    "datatestY = get_datatestY('electric_motor_and_propeller_efficiencies')\n",
    "\n",
    "\n",
    "scorinngs = ['neg_mean_absolute_error', 'neg_mean_squared_error', 'neg_root_mean_squared_error',\n",
    "             'neg_mean_absolute_percentage_error', 'explained_variance', 'r2']\n",
    "best_estimators = []\n",
    "outputs = ['propeller throttle', 'lift throttle', 'propeller rpm', 'propeller thrust(N)',\n",
    "            'propeller torque(Nm)', 'propeller efficiency', 'propeller motor efficiency',\n",
    "            'propeller power coefficient', 'lift rotor rpm', 'lift thrust(N)', 'lift torque(Nm)',\n",
    "            'lift efficiency', 'lift motor efficiency', 'lift power coefficient', 'propeller tip mach', \n",
    "            'lift tip mach', 'fesibility']\n",
    "for output_indx, i in enumerate([0,1,2,3,4,5,6,7,8,9,10,11,12,13,14,15]):#,17]):\n",
    "    train_X = dataX\n",
    "    y = dataY[:,i]\n",
    "    if i!=10:\n",
    "        indxes = dataY[:,-1]==1\n",
    "        y = y[indxes]\n",
    "        train_X = dataX[indxes]\n",
    "    regr = GradientBoostingRegressor(random_state=0)\n",
    "    scores = cross_validate(regr, train_X, y, cv=5, scoring=scorinngs, return_estimator=True)\n",
    "    best_estimators.append(scores['estimator'][np.argmin(scores['test_neg_mean_squared_error'])])\n",
    "    \n",
    "    regr = scores['estimator'][np.argmin(scores['test_neg_mean_squared_error'])]\n",
    "    \n",
    "    indxes = datatestY[:,-1]==1\n",
    "    test_X = datatestX[indxes]\n",
    "    test_Y = datatestY[indxes]\n",
    "    \n",
    "    indxes = abs(test_Y[:, i]) > 10e-3\n",
    "    test_X = test_X[indxes]\n",
    "    test_Y = test_Y[indxes]\n",
    "\n",
    "    weights = weights = [segment_weights[segment_type_encoder.inverse_transform([test_X[i,3:14]])[0][0]] \n",
    "               for i in range(test_X.shape[0])]\n",
    "    \n",
    "    mse = mean_squared_error(test_Y[:,i], regr.predict(test_X), sample_weight=weights)\n",
    "    mae = mean_absolute_error(test_Y[:,i], regr.predict(test_X), sample_weight=weights)\n",
    "    mape = mean_absolute_percentage_error(test_Y[:,i], regr.predict(test_X), sample_weight=weights)\n",
    "    \n",
    "    result['GBoost']['electric_motor_and_propeller_efficiencies'][outputs[output_indx]] = {}\n",
    "    result['GBoost']['electric_motor_and_propeller_efficiencies'][outputs[output_indx]]['MSE'] = round(mse,2)\n",
    "    result['GBoost']['electric_motor_and_propeller_efficiencies'][outputs[output_indx]]['MAE'] = round(mae,2)\n",
    "    result['GBoost']['electric_motor_and_propeller_efficiencies'][outputs[output_indx]]['MAPE'] = round(mape,2)\n",
    "    \n",
    "    print(round(mse,2))\n",
    "    \n",
    "    \n",
    "\n",
    "# testX, testY = get_data_for_inference('electric_motor_and_propeller_efficiencies')\n",
    "# print(testX.shape, testY.shape)\n",
    "# pred_Y = None\n",
    "# for estimator in best_estimators:\n",
    "#     pred_y = estimator.predict(testX)\n",
    "# #     print(pred_y.shape)\n",
    "#     pred_Y = pred_y if pred_Y is None else np.vstack((pred_Y, pred_y))\n",
    "# pred_Y = pred_Y.T\n",
    "# print(testY.shape, pred_Y.shape)\n",
    "# x_label = 'time(min)'\n",
    "# y_labels = ['propeller throttle', 'lift throttle', 'propeller rpm', 'propeller thrust(N)',\n",
    "#             'propeller torque(Nm)', 'propeller efficiency', 'propeller motor efficiency',\n",
    "#             'propeller power coefficient', 'lift rotor rpm', 'lift thrust(N)', 'lift torque(Nm)',\n",
    "#             'lift efficiency', 'lift motor efficiency', 'lift power coefficient', 'propeller tip mach', \n",
    "#             'lift tip mach', 'fesibility']\n",
    "# t = testY[:,16]\n",
    "# true_i = [0,1,2,3,4,5,6,7,8,9,10,11,12,13,14,15]#,17]\n",
    "# fig = plt.figure(figsize=(8,16), dpi=200)\n",
    "# for i in range(1,17):\n",
    "#     plt.subplot(8,2,i)\n",
    "#     plt.plot(t, pred_Y[:,i-1], label='predicted')\n",
    "#     plt.plot(t, testY[:,true_i[i-1]], label='ground truth')\n",
    "#     plt.xlabel(x_label)\n",
    "#     plt.ylabel(y_labels[i-1])\n",
    "#     plt.legend()\n",
    "# fig.tight_layout()"
   ]
  },
  {
   "cell_type": "markdown",
   "id": "78950e11",
   "metadata": {
    "heading_collapsed": true
   },
   "source": [
    "# RandomForestRegressor"
   ]
  },
  {
   "cell_type": "markdown",
   "id": "ae1e43a3",
   "metadata": {
    "heading_collapsed": true,
    "hidden": true
   },
   "source": [
    "## Flight Conditions"
   ]
  },
  {
   "cell_type": "code",
   "execution_count": 23,
   "id": "a77626f6",
   "metadata": {
    "hidden": true
   },
   "outputs": [
    {
     "name": "stdout",
     "output_type": "stream",
     "text": [
      "0.9553398058252427\n"
     ]
    }
   ],
   "source": [
    "dataX = get_dataX()\n",
    "dataY = get_dataY('flight_conditions')\n",
    "datatestX = get_datatestX()\n",
    "datatestY = get_datatestY('flight_conditions')\n",
    "\n",
    "scorinngs = ['accuracy', 'f1', 'precision', 'recall']\n",
    "train_X = dataX\n",
    "y = dataY[:,5]\n",
    "clf = RandomForestClassifier(max_depth=8, random_state=0)\n",
    "y = y.astype(dtype=np.int8)\n",
    "scores = cross_validate(clf, train_X, y, cv=5, scoring=scorinngs, return_estimator=True)\n",
    "\n",
    "clf = scores['estimator'][np.argmin(scores['test_f1'])]\n",
    "\n",
    "weights = weights = [segment_weights[segment_type_encoder.inverse_transform([datatestX[i,3:14]])[0][0]] \n",
    "           for i in range(datatestX.shape[0])]\n",
    "acc = accuracy_score(datatestY[:,5], clf.predict(datatestX), sample_weight=weights)\n",
    "f1 = f1_score(datatestY[:,5], clf.predict(datatestX), sample_weight=weights)\n",
    "precision = precision_score(datatestY[:,5], clf.predict(datatestX), sample_weight=weights)\n",
    "recall = recall_score(datatestY[:,5], clf.predict(datatestX), sample_weight=weights)\n",
    "\n",
    "fesibility_result['RF']['fesibility']['accuracy'] = round(acc, 2)\n",
    "fesibility_result['RF']['fesibility']['f1'] = round(f1, 2)\n",
    "fesibility_result['RF']['fesibility']['precision'] = round(precision, 2)\n",
    "fesibility_result['RF']['fesibility']['recall'] = round(recall, 2)\n",
    "print(acc)"
   ]
  },
  {
   "cell_type": "code",
   "execution_count": 24,
   "id": "e90fdee0",
   "metadata": {
    "code_folding": [],
    "hidden": true
   },
   "outputs": [
    {
     "name": "stdout",
     "output_type": "stream",
     "text": [
      "0.0\n",
      "0.01\n",
      "0.03\n",
      "141.19\n"
     ]
    }
   ],
   "source": [
    "dataX = get_dataX()\n",
    "dataY = get_dataY('flight_conditions')\n",
    "datatestX = get_datatestX()\n",
    "datatestY = get_datatestY('flight_conditions')\n",
    "\n",
    "scorinngs = ['neg_mean_absolute_error', 'neg_mean_squared_error', 'neg_root_mean_squared_error',\n",
    "             'neg_mean_absolute_percentage_error', 'explained_variance', 'r2']\n",
    "best_estimators = []\n",
    "outputs = ['altitude(ft)', 'air speed(mph)', 'pitch angle(deg)', 'range(nmi)', 'fesibility']\n",
    "for output_indx, i in enumerate([0,1,2,3]):#,5]):\n",
    "    train_X = dataX\n",
    "    y = dataY[:,i]\n",
    "    if i!=5:\n",
    "        indxes = dataY[:,-1]==1\n",
    "        y = y[indxes]\n",
    "        train_X = dataX[indxes]\n",
    "    regr = RandomForestRegressor(max_depth=8, random_state=0)\n",
    "    scores = cross_validate(regr, train_X, y, cv=5, scoring=scorinngs, return_estimator=True)\n",
    "    best_estimators.append(scores['estimator'][np.argmin(scores['test_neg_mean_squared_error'])])\n",
    "    \n",
    "    regr = scores['estimator'][np.argmin(scores['test_neg_mean_squared_error'])]\n",
    "    \n",
    "    indxes = datatestY[:,-1]==1\n",
    "    test_X = datatestX[indxes]\n",
    "    test_Y = datatestY[indxes]\n",
    "    \n",
    "    indxes = test_Y[:, i] > 10e-3\n",
    "    test_X = test_X[indxes]\n",
    "    test_Y = test_Y[indxes]\n",
    "\n",
    "    weights = weights = [segment_weights[segment_type_encoder.inverse_transform([test_X[i,3:14]])[0][0]] \n",
    "               for i in range(test_X.shape[0])]\n",
    "    mse = mean_squared_error(test_Y[:,i], regr.predict(test_X), sample_weight=weights)\n",
    "    mae = mean_absolute_error(test_Y[:,i], regr.predict(test_X), sample_weight=weights)\n",
    "    mape = mean_absolute_percentage_error(test_Y[:,i], regr.predict(test_X), sample_weight=weights)\n",
    "    \n",
    "    result['RF']['flight_conditions'][outputs[output_indx]] = {}\n",
    "    result['RF']['flight_conditions'][outputs[output_indx]]['MSE'] = round(mse,2)\n",
    "    result['RF']['flight_conditions'][outputs[output_indx]]['MAE'] = round(mae,2)\n",
    "    result['RF']['flight_conditions'][outputs[output_indx]]['MAPE'] = round(mape,2)\n",
    "    \n",
    "    print(round(mse,2))\n",
    "        \n",
    "\n",
    "# testX, testY = get_data_for_inference('flight_conditions')\n",
    "# print(testX.shape, testY.shape)\n",
    "# pred_Y = None\n",
    "# for estimator in best_estimators:\n",
    "#     indxes = testY[:,-1]==1\n",
    "#     testY = testY[indxes]\n",
    "#     testX = testX[indxes]\n",
    "#     pred_y = estimator.predict(testX)\n",
    "# #     print(pred_y.shape)\n",
    "#     pred_Y = pred_y if pred_Y is None else np.vstack((pred_Y, pred_y))\n",
    "# pred_Y = pred_Y.T\n",
    "# # print(testY.shape, pred_Y.shape)\n",
    "# x_label = 'time(min)'\n",
    "# y_labels = ['altitude(ft)', 'air speed(mph)', 'pitch angle(deg)', 'range(nmi)', 'fesibility']\n",
    "# t = testY[:,4]\n",
    "# true_i = [0,1,2,3]#,5]\n",
    "# fig = plt.figure(figsize=(8,4), dpi=200)\n",
    "# for i in range(1,5):\n",
    "#     plt.subplot(2,2,i)\n",
    "#     plt.plot(t, pred_Y[:,i-1], label='predicted')\n",
    "#     plt.plot(t, testY[:,true_i[i-1]], label='ground truth')\n",
    "#     plt.xlabel(x_label)\n",
    "#     plt.ylabel(y_labels[i-1])\n",
    "#     plt.legend()\n",
    "# fig.tight_layout()\n"
   ]
  },
  {
   "cell_type": "markdown",
   "id": "d7eaab88",
   "metadata": {
    "heading_collapsed": true,
    "hidden": true
   },
   "source": [
    "## Aerodynamic Coefficients"
   ]
  },
  {
   "cell_type": "code",
   "execution_count": 25,
   "id": "749e582f",
   "metadata": {
    "code_folding": [
     40
    ],
    "hidden": true
   },
   "outputs": [
    {
     "name": "stdout",
     "output_type": "stream",
     "text": [
      "0.0\n",
      "0.0\n",
      "0.01\n",
      "0.0\n"
     ]
    }
   ],
   "source": [
    "dataX = get_dataX()\n",
    "dataY = get_dataY('aerodynamic_coefficients')\n",
    "datatestX = get_datatestX()\n",
    "datatestY = get_datatestY('aerodynamic_coefficients')\n",
    "\n",
    "scorinngs = ['neg_mean_absolute_error', 'neg_mean_squared_error', 'neg_root_mean_squared_error',\n",
    "             'neg_mean_absolute_percentage_error', 'explained_variance', 'r2']\n",
    "best_estimators = []\n",
    "outputs = ['CL', 'CD', 'AOA(deg)', 'L/D','fesibility']\n",
    "for output_indx, i in enumerate([0,1,2,3]):#,5]):\n",
    "    train_X = dataX\n",
    "    y = dataY[:,i]\n",
    "    if i!=5:\n",
    "        indxes = dataY[:,-1]==1\n",
    "        y = y[indxes]\n",
    "        train_X = dataX[indxes]\n",
    "    regr = RandomForestRegressor(max_depth=8, random_state=0)\n",
    "    scores = cross_validate(regr, train_X, y, cv=5, scoring=scorinngs, return_estimator=True)\n",
    "    best_estimators.append(scores['estimator'][np.argmin(scores['test_neg_mean_squared_error'])])\n",
    "    \n",
    "    regr = scores['estimator'][np.argmin(scores['test_neg_mean_squared_error'])]\n",
    "    \n",
    "    indxes = datatestY[:,-1]==1\n",
    "    test_X = datatestX[indxes]\n",
    "    test_Y = datatestY[indxes]\n",
    "    \n",
    "    indxes = test_Y[:, i] > 10e-3\n",
    "    test_X = test_X[indxes]\n",
    "    test_Y = test_Y[indxes]\n",
    "\n",
    "    weights = weights = [segment_weights[segment_type_encoder.inverse_transform([test_X[i,3:14]])[0][0]] \n",
    "               for i in range(test_X.shape[0])]\n",
    "    mse = mean_squared_error(test_Y[:,i], regr.predict(test_X), sample_weight=weights)\n",
    "    mae = mean_absolute_error(test_Y[:,i], regr.predict(test_X), sample_weight=weights)\n",
    "    mape = mean_absolute_percentage_error(test_Y[:,i], regr.predict(test_X), sample_weight=weights)\n",
    "    \n",
    "    result['RF']['aerodynamic_coefficients'][outputs[output_indx]] = {}\n",
    "    result['RF']['aerodynamic_coefficients'][outputs[output_indx]]['MSE'] = round(mse,2)\n",
    "    result['RF']['aerodynamic_coefficients'][outputs[output_indx]]['MAE'] = round(mae,2)\n",
    "    result['RF']['aerodynamic_coefficients'][outputs[output_indx]]['MAPE'] = round(mape,2)\n",
    "    \n",
    "    print(round(mse,2))\n",
    "        \n",
    "\n",
    "        \n",
    "# testX, testY = get_data_for_inference('aerodynamic_coefficients')\n",
    "# print(testX.shape, testY.shape)\n",
    "# pred_Y = None\n",
    "# for estimator in best_estimators:\n",
    "#     indxes = testY[:,-1]==1\n",
    "#     testY = testY[indxes]\n",
    "#     testX = testX[indxes]\n",
    "#     pred_y = estimator.predict(testX)\n",
    "# #     print(pred_y.shape)\n",
    "#     pred_Y = pred_y if pred_Y is None else np.vstack((pred_Y, pred_y))\n",
    "# pred_Y = pred_Y.T\n",
    "# print(testY.shape, pred_Y.shape)\n",
    "# x_label = 'time(min)'\n",
    "# y_labels = ['CL', 'CD', 'AOA(deg)', 'L/D','fesibility']\n",
    "# t = testY[:,4]\n",
    "# true_i = [0,1,2,3]#,5]\n",
    "# fig = plt.figure(figsize=(8,4), dpi=200)\n",
    "# for i in range(1,5):\n",
    "#     plt.subplot(2,2,i)\n",
    "#     plt.plot(t, pred_Y[:,i-1], label='predicted')\n",
    "#     plt.plot(t, testY[:,true_i[i-1]], label='ground truth')\n",
    "#     plt.xlabel(x_label)\n",
    "#     plt.ylabel(y_labels[i-1])\n",
    "#     plt.legend()\n",
    "# fig.tight_layout()"
   ]
  },
  {
   "cell_type": "markdown",
   "id": "74d0b6d7",
   "metadata": {
    "heading_collapsed": true,
    "hidden": true
   },
   "source": [
    "## Aircraft Electronics"
   ]
  },
  {
   "cell_type": "code",
   "execution_count": 26,
   "id": "650f5275",
   "metadata": {
    "hidden": true
   },
   "outputs": [
    {
     "name": "stdout",
     "output_type": "stream",
     "text": [
      "0.01\n",
      "92.94\n",
      "0.17\n",
      "114.76\n",
      "101.16\n",
      "17.18\n",
      "0.04\n",
      "0.04\n",
      "0.7\n"
     ]
    }
   ],
   "source": [
    "dataX = get_dataX()\n",
    "dataY = get_dataY('aircraft_electronics')\n",
    "datatestX = get_datatestX()\n",
    "datatestY = get_datatestY('aircraft_electronics')\n",
    "\n",
    "scorinngs = ['neg_mean_absolute_error', 'neg_mean_squared_error', 'neg_root_mean_squared_error',\n",
    "             'neg_mean_absolute_percentage_error', 'explained_variance', 'r2']\n",
    "best_estimators = []\n",
    "outputs = ['SOC', 'battery energy(kwh)', 'battery power(kw)', 'voltage(v)', 'voltage oc(v)', 'current(a)', \n",
    "            'C Rating instant', 'C Rating nominal', 'specific power', 'fesibility']\n",
    "for output_indx, i in enumerate([0,1,2,3,4,5,6,7,8]):#,10]):\n",
    "    train_X = dataX\n",
    "    y = dataY[:,i]\n",
    "    if i!=10:\n",
    "        indxes = dataY[:,-1]==1\n",
    "        y = y[indxes]\n",
    "        train_X = dataX[indxes]\n",
    "    regr = RandomForestRegressor(max_depth=8, random_state=0)\n",
    "    scores = cross_validate(regr, train_X, y, cv=5, scoring=scorinngs, return_estimator=True)\n",
    "    best_estimators.append(scores['estimator'][np.argmin(scores['test_neg_mean_squared_error'])])\n",
    "        \n",
    "    regr = scores['estimator'][np.argmin(scores['test_neg_mean_squared_error'])]\n",
    "    \n",
    "    indxes = datatestY[:,-1]==1\n",
    "    test_X = datatestX[indxes]\n",
    "    test_Y = datatestY[indxes]\n",
    "    \n",
    "    indxes = test_Y[:, i] > 10e-3\n",
    "    test_X = test_X[indxes]\n",
    "    test_Y = test_Y[indxes]\n",
    "\n",
    "    weights = weights = [segment_weights[segment_type_encoder.inverse_transform([test_X[i,3:14]])[0][0]] \n",
    "               for i in range(test_X.shape[0])]\n",
    "    mse = mean_squared_error(test_Y[:,i], regr.predict(test_X), sample_weight=weights)\n",
    "    mae = mean_absolute_error(test_Y[:,i], regr.predict(test_X), sample_weight=weights)\n",
    "    mape = mean_absolute_percentage_error(test_Y[:,i], regr.predict(test_X), sample_weight=weights)\n",
    "    \n",
    "    result['RF']['aircraft_electronics'][outputs[output_indx]] = {}\n",
    "    result['RF']['aircraft_electronics'][outputs[output_indx]]['MSE'] = round(mse,2)\n",
    "    result['RF']['aircraft_electronics'][outputs[output_indx]]['MAE'] = round(mae,2)\n",
    "    result['RF']['aircraft_electronics'][outputs[output_indx]]['MAPE'] = round(mape,2)\n",
    "    \n",
    "    print(round(mse,2))\n",
    "\n",
    "# testX, testY = get_data_for_inference('aircraft_electronics')\n",
    "# print(testX.shape, testY.shape)\n",
    "# pred_Y = None\n",
    "# for estimator in best_estimators:\n",
    "#     indxes = testY[:,-1]==1\n",
    "#     testY = testY[indxes]\n",
    "#     testX = testX[indxes]\n",
    "#     pred_y = estimator.predict(testX)\n",
    "# #     print(pred_y.shape)\n",
    "#     pred_Y = pred_y if pred_Y is None else np.vstack((pred_Y, pred_y))\n",
    "# pred_Y = pred_Y.T\n",
    "# print(testY.shape, pred_Y.shape)\n",
    "# x_label = 'time(min)'\n",
    "# y_labels = ['SOC', 'battery energy(kwh)', 'battery power(kw)', 'voltage(v)', 'voltage oc(v)', 'current(a)', \n",
    "#             'C Rating instant', 'C Rating nominal', 'specific power', 'fesibility']\n",
    "# t = testY[:,9]\n",
    "# true_i = [0,1,2,3,4,5,6,7,8]#,10]\n",
    "# fig = plt.figure(figsize=(8,10), dpi=200)\n",
    "# for i in range(1,10):\n",
    "#     plt.subplot(5,2,i)\n",
    "#     plt.plot(t, pred_Y[:,i-1], label='predicted')\n",
    "#     plt.plot(t, testY[:,true_i[i-1]], label='ground truth')\n",
    "#     plt.xlabel(x_label)\n",
    "#     plt.ylabel(y_labels[i-1])\n",
    "#     plt.legend()\n",
    "# fig.tight_layout()"
   ]
  },
  {
   "cell_type": "markdown",
   "id": "ff0a206f",
   "metadata": {
    "heading_collapsed": true,
    "hidden": true
   },
   "source": [
    "## Electric motor and propeller efficiencies"
   ]
  },
  {
   "cell_type": "code",
   "execution_count": 27,
   "id": "8d5b6c83",
   "metadata": {
    "hidden": true
   },
   "outputs": [
    {
     "name": "stdout",
     "output_type": "stream",
     "text": [
      "0.0\n",
      "0.0\n",
      "20.34\n",
      "112.95\n",
      "31.09\n",
      "0.0\n",
      "0.0\n",
      "0.0\n",
      "0.04\n",
      "0.0\n",
      "0.0\n",
      "0.0\n",
      "0.0\n",
      "0.0\n",
      "0.0\n",
      "0.0\n"
     ]
    }
   ],
   "source": [
    "dataX = get_dataX()\n",
    "dataY = get_dataY('electric_motor_and_propeller_efficiencies')\n",
    "datatestX = get_datatestX()\n",
    "datatestY = get_datatestY('electric_motor_and_propeller_efficiencies')\n",
    "\n",
    "scorinngs = ['neg_mean_absolute_error', 'neg_mean_squared_error', 'neg_root_mean_squared_error',\n",
    "             'neg_mean_absolute_percentage_error', 'explained_variance', 'r2']\n",
    "best_estimators = []\n",
    "outputs = ['propeller throttle', 'lift throttle', 'propeller rpm', 'propeller thrust(N)',\n",
    "            'propeller torque(Nm)', 'propeller efficiency', 'propeller motor efficiency',\n",
    "            'propeller power coefficient', 'lift rotor rpm', 'lift thrust(N)', 'lift torque(Nm)',\n",
    "            'lift efficiency', 'lift motor efficiency', 'lift power coefficient', 'propeller tip mach', \n",
    "            'lift tip mach', 'fesibility']\n",
    "for output_indx, i in enumerate([0,1,2,3,4,5,6,7,8,9,10,11,12,13,14,15]):#,17]):\n",
    "    train_X = dataX\n",
    "    y = dataY[:,i]\n",
    "    if i!=10:\n",
    "        indxes = dataY[:,-1]==1\n",
    "        y = y[indxes]\n",
    "        train_X = dataX[indxes]\n",
    "    regr = RandomForestRegressor(max_depth=8, random_state=0)\n",
    "    scores = cross_validate(regr, train_X, y, cv=5, scoring=scorinngs, return_estimator=True)\n",
    "    best_estimators.append(scores['estimator'][np.argmin(scores['test_neg_mean_squared_error'])])\n",
    "    \n",
    "    regr = scores['estimator'][np.argmin(scores['test_neg_mean_squared_error'])]\n",
    "    \n",
    "    indxes = datatestY[:,-1]==1\n",
    "    test_X = datatestX[indxes]\n",
    "    test_Y = datatestY[indxes]\n",
    "    \n",
    "    indxes = test_Y[:, i] > 10e-3\n",
    "    test_X = test_X[indxes]\n",
    "    test_Y = test_Y[indxes]\n",
    "\n",
    "    weights = weights = [segment_weights[segment_type_encoder.inverse_transform([test_X[i,3:14]])[0][0]] \n",
    "               for i in range(test_X.shape[0])]\n",
    "    mse = mean_squared_error(test_Y[:,i], regr.predict(test_X), sample_weight=weights)\n",
    "    mae = mean_absolute_error(test_Y[:,i], regr.predict(test_X), sample_weight=weights)\n",
    "    mape = mean_absolute_percentage_error(test_Y[:,i], regr.predict(test_X), sample_weight=weights)\n",
    "    \n",
    "    result['RF']['electric_motor_and_propeller_efficiencies'][outputs[output_indx]] = {}\n",
    "    result['RF']['electric_motor_and_propeller_efficiencies'][outputs[output_indx]]['MSE'] = round(mse,2)\n",
    "    result['RF']['electric_motor_and_propeller_efficiencies'][outputs[output_indx]]['MAE'] = round(mae,2)\n",
    "    result['RF']['electric_motor_and_propeller_efficiencies'][outputs[output_indx]]['MAPE'] = round(mape,2)\n",
    "    \n",
    "    print(round(mse,2))\n",
    "    \n",
    "        \n",
    "\n",
    "# testX, testY = get_data_for_inference('electric_motor_and_propeller_efficiencies')\n",
    "# print(testX.shape, testY.shape)\n",
    "# pred_Y = None\n",
    "# for estimator in best_estimators:\n",
    "#     indxes = testY[:,-1]==1\n",
    "#     testY = testY[indxes]\n",
    "#     testX = testX[indxes]\n",
    "#     pred_y = estimator.predict(testX)\n",
    "# #     print(pred_y.shape)\n",
    "#     pred_Y = pred_y if pred_Y is None else np.vstack((pred_Y, pred_y))\n",
    "# pred_Y = pred_Y.T\n",
    "# print(testY.shape, pred_Y.shape)\n",
    "# x_label = 'time(min)'\n",
    "# y_labels = ['propeller throttle', 'lift throttle', 'propeller rpm', 'propeller thrust(N)',\n",
    "#             'propeller torque(Nm)', 'propeller efficiency', 'propeller motor efficiency',\n",
    "#             'propeller power coefficient', 'lift rotor rpm', 'lift thrust(N)', 'lift torque(Nm)',\n",
    "#             'lift efficiency', 'lift motor efficiency', 'lift power coefficient', 'propeller tip mach', \n",
    "#             'lift tip mach', 'fesibility']\n",
    "# t = testY[:,16]\n",
    "# true_i = [0,1,2,3,4,5,6,7,8,9,10,11,12,13,14,15]#,17]\n",
    "# fig = plt.figure(figsize=(8,16), dpi=200)\n",
    "# for i in range(1,17):\n",
    "#     plt.subplot(8,2,i)\n",
    "#     plt.plot(t, pred_Y[:,i-1], label='predicted')\n",
    "#     plt.plot(t, testY[:,true_i[i-1]], label='ground truth')\n",
    "#     plt.xlabel(x_label)\n",
    "#     plt.ylabel(y_labels[i-1])\n",
    "#     plt.legend()\n",
    "# fig.tight_layout()"
   ]
  },
  {
   "cell_type": "markdown",
   "id": "b2644488",
   "metadata": {},
   "source": [
    "# LSTM"
   ]
  },
  {
   "cell_type": "markdown",
   "id": "c56a28ba",
   "metadata": {},
   "source": [
    "## range, battery energy, voltage and current"
   ]
  },
  {
   "cell_type": "code",
   "execution_count": null,
   "id": "8bfd67da",
   "metadata": {},
   "outputs": [],
   "source": [
    "%%time\n",
    "@tf.autograph.experimental.do_not_convert\n",
    "def mape_loss_fn(y_true, y_pred):\n",
    "    indxes = y_true[:,0] > 10e-3\n",
    "    y_true = y_true[indxes]\n",
    "    y_pred = y_pred[indxes]\n",
    "    mape = losses.mean_absolute_percentage_error(y_true, y_pred)\n",
    "    return mape\n",
    "\n",
    "performance_metrics = {'flight_conditions':[3], # range\n",
    "                       'aircraft_electronics':[1, 3, 5], # battery energy, voltage, current\n",
    "                       #'electric_motor_and_propeller_efficiencies':[3, 4] # propeller thrust, propeller torque\n",
    "                      } \n",
    "# performance_metrics = {\n",
    "#                        'aircraft_electronics':[5]\n",
    "#                       } \n",
    "# training\n",
    "performance_variable_names = {('flight_conditions',3):'range', \n",
    "                              ('aircraft_electronics',1):'battery_energy', \n",
    "                              ('aircraft_electronics',3):'voltage', \n",
    "                              ('aircraft_electronics',5):'current'}\n",
    "model_dir = './ML_Models/'\n",
    "trained_models_name = ['lstm_range.h5', 'lstm_battery_energy.h5', 'lstm_voltage.h5', 'lstm_current.h5']\n",
    "model_idx = 0\n",
    "\n",
    "for performance_metric in performance_metrics:\n",
    "    for idx in performance_metrics[performance_metric]:\n",
    "        dataX, dataY = get_data_for_lstm_train(performance_metric, idx)\n",
    "        dataY = dataY[:,idx].reshape((-1,1))\n",
    "\n",
    "        # deep LSTM model\n",
    "        time_step = 1 \n",
    "        num_feature = 23\n",
    "        num_class = 1\n",
    "        direction = 2\n",
    "        neuron_size = 128\n",
    "        lstm_layers = 1\n",
    "        hidden_layer1 = 128\n",
    "        hidden_layer2 = 512\n",
    "        hidden_layer3 = 128\n",
    "        epochs = 2000\n",
    "\n",
    "\n",
    "        # create model\n",
    "        x_in = Input(shape=(time_step, num_feature),dtype=\"float32\")\n",
    "        # bid_layer1 = Bidirectional(LSTM(neuron_size))(x_in)\n",
    "        lstm_layer1 = LSTM(neuron_size)(x_in)\n",
    "        fc1 = Dense(units=hidden_layer1, activation='relu')(lstm_layer1)\n",
    "        fc2 = Dense(units=hidden_layer2, activation='relu')(fc1)\n",
    "        fc3 = Dense(units=hidden_layer3, activation='relu')(fc2)\n",
    "        y = Dense(units=num_class, activation='linear')(fc3)\n",
    "\n",
    "        model = Model(inputs=x_in, outputs=y)\n",
    "        optimizer = optimizers.Adam(learning_rate=0.001, beta_1=0.9, beta_2=0.999, amsgrad=False)\n",
    "        loss = losses.mse\n",
    "        model.compile(optimizer=optimizer, loss=loss, metrics=['mse','mae', mape_loss_fn])\n",
    "#         print(model.summary())\n",
    "\n",
    "\n",
    "        input_data = dataX #dataX[:-time_step, :]\n",
    "        targets = dataY #dataY[time_step:, :]\n",
    "        dataset = timeseries_dataset_from_array(input_data, \n",
    "                                                targets, \n",
    "                                                sequence_length=time_step,\n",
    "                                                batch_size=128)\n",
    "\n",
    "        hist = model.fit(dataset,\n",
    "                         epochs=epochs,\n",
    "                         verbose=0,\n",
    "                         callbacks=None,#[batch_print_callback],\n",
    "                         max_queue_size=512,\n",
    "                         workers=64,\n",
    "                         use_multiprocessing=True,\n",
    "                         shuffle=False\n",
    "                        )\n",
    "#         print(hist.history['loss'][-5:])\n",
    "#         print(\"********\")\n",
    "        dataX, dataY = get_data_for_lstm_test(performance_metric, idx)\n",
    "        dataY = dataY[:,idx].reshape((-1,1))\n",
    "        input_data = dataX \n",
    "        targets = dataY \n",
    "        dataset = timeseries_dataset_from_array(input_data, \n",
    "                                                targets, \n",
    "                                                sequence_length=time_step,\n",
    "                                                batch_size=128)\n",
    "        scores = model.evaluate(dataset, return_dict=True)\n",
    "        print(performance_metric, idx)\n",
    "        print(scores)\n",
    "        lstm_results[performance_variable_names[(performance_metric, idx)]]['MSE'] = scores['mse']\n",
    "        lstm_results[performance_variable_names[(performance_metric, idx)]]['MAE'] = scores['mae']\n",
    "        lstm_results[performance_variable_names[(performance_metric, idx)]]['MAPE'] = scores['mape_loss_fn'] \n",
    "        \n",
    "        model.save(model_dir+trained_models_name[model_idx])\n",
    "        model_idx += 1\n"
   ]
  },
  {
   "cell_type": "code",
   "execution_count": null,
   "id": "88994d97",
   "metadata": {},
   "outputs": [],
   "source": []
  },
  {
   "cell_type": "code",
   "execution_count": 49,
   "id": "e282061f",
   "metadata": {},
   "outputs": [
    {
     "name": "stdout",
     "output_type": "stream",
     "text": [
      "CPU times: user 4.17 s, sys: 190 ms, total: 4.36 s\n",
      "Wall time: 3.85 s\n"
     ]
    },
    {
     "data": {
      "image/png": "[encoded data removed]",
      "text/plain": [
       "<Figure size 1600x800 with 4 Axes>"
      ]
     },
     "metadata": {
      "needs_background": "light"
     },
     "output_type": "display_data"
    }
   ],
   "source": [
    "%%time\n",
    "x_label = 'time(min)'\n",
    "y_labels = ['range(nmi)', 'battery energy(kwh)', 'voltage(v)', 'current(a)']\n",
    "subplot_idx = 1\n",
    "fig = plt.figure(figsize=(8,4), dpi=200)\n",
    "custom_fn = mape_loss_fn\n",
    "key = -1\n",
    "for performance_metric in performance_metrics:\n",
    "    for idx in performance_metrics[performance_metric]:\n",
    "        model = tf.keras.models.load_model(model_dir+trained_models_name[subplot_idx-1], \n",
    "                                           custom_objects={'mape_loss_fn':custom_fn})\n",
    "        \n",
    "        testX, testY, key = get_data_for_lstm_inference(performance_metric, idx, key)\n",
    "        t = testY[:,-2]\n",
    "        testX = testX.reshape((-1,1,23))\n",
    "        testY = testY[:,idx].reshape((-1,1))\n",
    "        outputs = model.predict(testX)\n",
    "        # print(testY.shape, outputs.shape)\n",
    "        y_true = testY.squeeze()\n",
    "        y_pred = outputs.squeeze()\n",
    "        \n",
    "        plt.subplot(2,2,subplot_idx)\n",
    "        plt.plot(t, y_pred, label='predicted')\n",
    "        plt.plot(t, y_true, label='ground truth')\n",
    "        plt.xlabel(x_label)\n",
    "        plt.ylabel(y_labels[subplot_idx-1])\n",
    "        plt.legend()\n",
    "        fig.tight_layout()\n",
    "        subplot_idx += 1\n",
    "        \n",
    "# testX, testY = get_data_for_inference('aircraft_electronics')\n",
    "# indxes = testY[:,-1]==1\n",
    "# testX = testX[indxes]\n",
    "# testY = testY[indxes]\n",
    "# print(testX.shape, testY.shape)\n",
    "\n",
    "\n",
    "# y_prev = np.array([[0]])\n",
    "\n",
    "# y_true = []\n",
    "# y_pred = []\n",
    "\n",
    "# for i, x in enumerate(testX):\n",
    "#     x = x.reshape((1,-1))\n",
    "#     x = np.concatenate((x,y_prev), axis=1)\n",
    "#     x = x.reshape((1,1,-1))\n",
    "#     outputs = model.predict(x)\n",
    "#     y_true.append(testY[i,3])\n",
    "#     y_pred.append(outputs[0])\n",
    "# #     print(y_true[i], y_pred[i])\n",
    "#     y_prev[0,0] = testY[i,3] #outputs[0]\n",
    "    \n",
    "# plt.plot(y_true)\n",
    "# plt.plot(y_pred)"
   ]
  },
  {
   "cell_type": "markdown",
   "id": "b4c3eb99",
   "metadata": {
    "heading_collapsed": true
   },
   "source": [
    "# show results"
   ]
  },
  {
   "cell_type": "code",
   "execution_count": 190,
   "id": "56b7c372",
   "metadata": {
    "hidden": true
   },
   "outputs": [
    {
     "data": {
      "text/plain": [
       "[<matplotlib.lines.Line2D at 0x7f4d4d9169d0>]"
      ]
     },
     "execution_count": 190,
     "metadata": {},
     "output_type": "execute_result"
    },
    {
     "data": {
      "image/png": "[encoded data removed]",
      "text/plain": [
       "<Figure size 432x288 with 1 Axes>"
      ]
     },
     "metadata": {
      "needs_background": "light"
     },
     "output_type": "display_data"
    }
   ],
   "source": [
    "plt.plot(y_true)\n",
    "plt.plot(y_pred)"
   ]
  },
  {
   "cell_type": "markdown",
   "id": "5e3503de",
   "metadata": {
    "heading_collapsed": true
   },
   "source": [
    "# Feasibility Classifier Scores"
   ]
  },
  {
   "cell_type": "code",
   "execution_count": 28,
   "id": "bf81063e",
   "metadata": {
    "hidden": true
   },
   "outputs": [
    {
     "name": "stdout",
     "output_type": "stream",
     "text": [
      "**********\n",
      "DT\n",
      "           fesibility\n",
      "accuracy         0.99\n",
      "f1               1.00\n",
      "precision        0.99\n",
      "recall           1.00\n",
      "**********\n",
      "ADBoost\n",
      "           fesibility\n",
      "accuracy         0.99\n",
      "f1               1.00\n",
      "precision        0.99\n",
      "recall           1.00\n",
      "**********\n",
      "GBoost\n",
      "           fesibility\n",
      "accuracy         0.99\n",
      "f1               1.00\n",
      "precision        0.99\n",
      "recall           1.00\n",
      "**********\n",
      "RF\n",
      "           fesibility\n",
      "accuracy         0.96\n",
      "f1               0.98\n",
      "precision        0.99\n",
      "recall           0.96\n"
     ]
    }
   ],
   "source": [
    "for key in fesibility_result:\n",
    "    fes_rslt_df = pd.DataFrame.from_dict(fesibility_result[key])\n",
    "    print('**********')\n",
    "    print(key)\n",
    "    print(fes_rslt_df)"
   ]
  },
  {
   "cell_type": "markdown",
   "id": "e97bebef",
   "metadata": {
    "heading_collapsed": true
   },
   "source": [
    "# Regressor Scores"
   ]
  },
  {
   "cell_type": "markdown",
   "id": "e9c81a00",
   "metadata": {
    "heading_collapsed": true,
    "hidden": true
   },
   "source": [
    "## Flight Conditions"
   ]
  },
  {
   "cell_type": "code",
   "execution_count": 29,
   "id": "7804a9ee",
   "metadata": {
    "code_folding": [],
    "hidden": true
   },
   "outputs": [
    {
     "name": "stdout",
     "output_type": "stream",
     "text": [
      "**********\n",
      "DT\n",
      "      altitude(ft)  air speed(mph)  pitch angle(deg)  range(nmi)\n",
      "MSE            0.0            0.00              0.04      412.29\n",
      "MAE            0.0            0.02              0.02       14.23\n",
      "MAPE           0.0            0.00              0.00        0.95\n",
      "**********\n",
      "ADBoost\n",
      "      altitude(ft)  air speed(mph)  pitch angle(deg)  range(nmi)\n",
      "MSE            0.0            0.01              0.00      171.75\n",
      "MAE            0.0            0.03              0.02       10.20\n",
      "MAPE           0.0            0.00              0.00        0.66\n",
      "**********\n",
      "GBoost\n",
      "      altitude(ft)  air speed(mph)  pitch angle(deg)  range(nmi)\n",
      "MSE           0.00            0.03              0.01      127.43\n",
      "MAE           0.01            0.09              0.04        8.23\n",
      "MAPE          0.00            0.00              0.00        4.56\n",
      "**********\n",
      "RF\n",
      "      altitude(ft)  air speed(mph)  pitch angle(deg)  range(nmi)\n",
      "MSE            0.0            0.01              0.03      141.19\n",
      "MAE            0.0            0.04              0.04        8.98\n",
      "MAPE           0.0            0.00              0.00        0.52\n"
     ]
    }
   ],
   "source": [
    "for key in result:\n",
    "    result_df = pd.DataFrame.from_dict(result[key]['flight_conditions'])\n",
    "    print(\"**********\")\n",
    "    print(key)\n",
    "    print(result_df)"
   ]
  },
  {
   "cell_type": "markdown",
   "id": "3ed8017b",
   "metadata": {
    "heading_collapsed": true,
    "hidden": true
   },
   "source": [
    "## Aerodynamic Coefficients "
   ]
  },
  {
   "cell_type": "code",
   "execution_count": 30,
   "id": "e5758c46",
   "metadata": {
    "hidden": true
   },
   "outputs": [
    {
     "name": "stdout",
     "output_type": "stream",
     "text": [
      "**********\n",
      "DT\n",
      "       CL   CD  AOA(deg)  L/D\n",
      "MSE   0.0  0.0      0.00  0.0\n",
      "MAE   0.0  0.0      0.01  0.0\n",
      "MAPE  0.0  0.0      0.00  0.0\n",
      "**********\n",
      "ADBoost\n",
      "       CL   CD  AOA(deg)  L/D\n",
      "MSE   0.0  0.0      0.00  0.0\n",
      "MAE   0.0  0.0      0.03  0.0\n",
      "MAPE  0.0  0.0      0.00  0.0\n",
      "**********\n",
      "GBoost\n",
      "       CL   CD  AOA(deg)  L/D\n",
      "MSE   0.0  0.0      0.01  0.0\n",
      "MAE   0.0  0.0      0.04  0.0\n",
      "MAPE  0.0  0.0      0.00  0.0\n",
      "**********\n",
      "RF\n",
      "       CL   CD  AOA(deg)   L/D\n",
      "MSE   0.0  0.0      0.01  0.00\n",
      "MAE   0.0  0.0      0.06  0.01\n",
      "MAPE  0.0  0.0      0.01  0.00\n"
     ]
    }
   ],
   "source": [
    "for key in result:\n",
    "    result_df = pd.DataFrame.from_dict(result[key]['aerodynamic_coefficients'])\n",
    "    print(\"**********\")\n",
    "    print(key)\n",
    "    print(result_df)"
   ]
  },
  {
   "cell_type": "markdown",
   "id": "2075e015",
   "metadata": {
    "heading_collapsed": true,
    "hidden": true
   },
   "source": [
    "## Aircraft Electronics "
   ]
  },
  {
   "cell_type": "code",
   "execution_count": 31,
   "id": "ef8e9ec8",
   "metadata": {
    "hidden": true
   },
   "outputs": [
    {
     "name": "stdout",
     "output_type": "stream",
     "text": [
      "**********\n",
      "DT\n",
      "       SOC  battery energy(kwh)  battery power(kw)  voltage(v)  voltage oc(v)  \\\n",
      "MSE   0.03               283.08               0.04      364.97         206.71   \n",
      "MAE   0.12                11.68               0.04       13.09           9.45   \n",
      "MAPE  0.17                 0.17               0.00        0.03           0.02   \n",
      "\n",
      "      current(a)  C Rating instant  C Rating nominal  specific power  \n",
      "MSE        67.45              0.13              0.17            0.15  \n",
      "MAE         5.28              0.22              0.24            0.08  \n",
      "MAPE        0.03              0.22              0.24            0.00  \n",
      "**********\n",
      "ADBoost\n",
      "       SOC  battery energy(kwh)  battery power(kw)  voltage(v)  voltage oc(v)  \\\n",
      "MSE   0.02               209.40               0.06      269.35         226.37   \n",
      "MAE   0.11                11.00               0.10       12.02          11.56   \n",
      "MAPE  0.16                 0.16               0.00        0.03           0.02   \n",
      "\n",
      "      current(a)  C Rating instant  C Rating nominal  specific power  \n",
      "MSE        46.10              0.10              0.24            0.22  \n",
      "MAE         5.48              0.22              0.33            0.18  \n",
      "MAPE        0.03              0.22              0.33            0.00  \n",
      "**********\n",
      "GBoost\n",
      "       SOC  battery energy(kwh)  battery power(kw)  voltage(v)  voltage oc(v)  \\\n",
      "MSE   0.01                85.48               0.78      106.08          91.72   \n",
      "MAE   0.07                 6.70               0.20        7.51           7.04   \n",
      "MAPE  0.11                 0.11               0.00        0.02           0.02   \n",
      "\n",
      "      current(a)  C Rating instant  C Rating nominal  specific power  \n",
      "MSE        21.75              0.04              0.04            3.12  \n",
      "MAE         3.17              0.12              0.12            0.39  \n",
      "MAPE        0.02              0.11              0.11            0.00  \n",
      "**********\n",
      "RF\n",
      "       SOC  battery energy(kwh)  battery power(kw)  voltage(v)  voltage oc(v)  \\\n",
      "MSE   0.01                92.94               0.17      114.76         101.16   \n",
      "MAE   0.08                 7.19               0.17        8.02           7.58   \n",
      "MAPE  0.12                 0.12               0.00        0.02           0.02   \n",
      "\n",
      "      current(a)  C Rating instant  C Rating nominal  specific power  \n",
      "MSE        17.18              0.04              0.04            0.70  \n",
      "MAE         3.00              0.11              0.11            0.35  \n",
      "MAPE        0.02              0.11              0.11            0.00  \n"
     ]
    }
   ],
   "source": [
    "for key in result:\n",
    "    result_df = pd.DataFrame.from_dict(result[key]['aircraft_electronics'])\n",
    "    print(\"**********\")\n",
    "    print(key)\n",
    "    print(result_df)"
   ]
  },
  {
   "cell_type": "markdown",
   "id": "4f768e7d",
   "metadata": {
    "heading_collapsed": true,
    "hidden": true
   },
   "source": [
    "##  Electric motor and propeller efficiencies"
   ]
  },
  {
   "cell_type": "code",
   "execution_count": 32,
   "id": "5717e62b",
   "metadata": {
    "hidden": true
   },
   "outputs": [
    {
     "name": "stdout",
     "output_type": "stream",
     "text": [
      "**********\n",
      "DT\n",
      "      propeller throttle  lift throttle  propeller rpm  propeller thrust(N)  \\\n",
      "MSE                 0.00           0.00           8.32                22.76   \n",
      "MAE                 0.02           0.01           0.48                 0.66   \n",
      "MAPE                0.02           0.02           0.00                 0.00   \n",
      "\n",
      "      propeller torque(Nm)  propeller efficiency  propeller motor efficiency  \\\n",
      "MSE                  94.42                   0.0                         0.0   \n",
      "MAE                   0.78                   0.0                         0.0   \n",
      "MAPE                  0.00                   0.0                         0.0   \n",
      "\n",
      "      propeller power coefficient  lift rotor rpm  lift thrust(N)  \\\n",
      "MSE                           0.0            0.08             0.0   \n",
      "MAE                           0.0            0.16             0.0   \n",
      "MAPE                          0.0            0.00             0.0   \n",
      "\n",
      "      lift torque(Nm)  lift efficiency  lift motor efficiency  \\\n",
      "MSE              0.00              0.0                    0.0   \n",
      "MAE              0.01              0.0                    0.0   \n",
      "MAPE             0.00              0.0                    0.0   \n",
      "\n",
      "      lift power coefficient  propeller tip mach  lift tip mach  \n",
      "MSE                      0.0                 0.0            0.0  \n",
      "MAE                      0.0                 0.0            0.0  \n",
      "MAPE                     0.0                 0.0            0.0  \n",
      "**********\n",
      "ADBoost\n",
      "      propeller throttle  lift throttle  propeller rpm  propeller thrust(N)  \\\n",
      "MSE                 0.00           0.00          10.01                29.35   \n",
      "MAE                 0.02           0.01           2.56                 2.65   \n",
      "MAPE                0.02           0.02           0.00                 0.00   \n",
      "\n",
      "      propeller torque(Nm)  propeller efficiency  propeller motor efficiency  \\\n",
      "MSE                  50.95                   0.0                         0.0   \n",
      "MAE                   6.16                   0.0                         0.0   \n",
      "MAPE                  0.01                   0.0                         0.0   \n",
      "\n",
      "      propeller power coefficient  lift rotor rpm  lift thrust(N)  \\\n",
      "MSE                          0.00            0.08             0.0   \n",
      "MAE                          0.00            0.17             0.0   \n",
      "MAPE                         0.01            0.00             0.0   \n",
      "\n",
      "      lift torque(Nm)  lift efficiency  lift motor efficiency  \\\n",
      "MSE              0.00              0.0                    0.0   \n",
      "MAE              0.01              0.0                    0.0   \n",
      "MAPE             0.00              0.0                    0.0   \n",
      "\n",
      "      lift power coefficient  propeller tip mach  lift tip mach  \n",
      "MSE                      0.0                 0.0            0.0  \n",
      "MAE                      0.0                 0.0            0.0  \n",
      "MAPE                     0.0                 0.0            0.0  \n",
      "**********\n",
      "GBoost\n",
      "      propeller throttle  lift throttle  propeller rpm  propeller thrust(N)  \\\n",
      "MSE                 0.00           0.00          20.43               350.01   \n",
      "MAE                 0.02           0.01           1.35                 3.72   \n",
      "MAPE                0.02           0.01           0.00                 0.00   \n",
      "\n",
      "      propeller torque(Nm)  propeller efficiency  propeller motor efficiency  \\\n",
      "MSE                  26.12                   0.0                         0.0   \n",
      "MAE                   1.16                   0.0                         0.0   \n",
      "MAPE                  0.01                   0.0                         0.0   \n",
      "\n",
      "      propeller power coefficient  lift rotor rpm  lift thrust(N)  \\\n",
      "MSE                           0.0            0.11            0.08   \n",
      "MAE                           0.0            0.23            0.28   \n",
      "MAPE                          0.0            0.00            0.00   \n",
      "\n",
      "      lift torque(Nm)  lift efficiency  lift motor efficiency  \\\n",
      "MSE               0.0              0.0                    0.0   \n",
      "MAE               0.0              0.0                    0.0   \n",
      "MAPE              0.0              0.0                    0.0   \n",
      "\n",
      "      lift power coefficient  propeller tip mach  lift tip mach  \n",
      "MSE                      0.0                 0.0            0.0  \n",
      "MAE                      0.0                 0.0            0.0  \n",
      "MAPE                     0.0                 0.0            0.0  \n",
      "**********\n",
      "RF\n",
      "      propeller throttle  lift throttle  propeller rpm  propeller thrust(N)  \\\n",
      "MSE                 0.00           0.00          20.34               112.95   \n",
      "MAE                 0.02           0.01           1.58                 5.99   \n",
      "MAPE                0.02           0.01           0.00                 0.01   \n",
      "\n",
      "      propeller torque(Nm)  propeller efficiency  propeller motor efficiency  \\\n",
      "MSE                  31.09                   0.0                         0.0   \n",
      "MAE                   1.65                   0.0                         0.0   \n",
      "MAPE                  0.00                   0.0                         0.0   \n",
      "\n",
      "      propeller power coefficient  lift rotor rpm  lift thrust(N)  \\\n",
      "MSE                           0.0            0.04             0.0   \n",
      "MAE                           0.0            0.11             0.0   \n",
      "MAPE                          0.0            0.00             0.0   \n",
      "\n",
      "      lift torque(Nm)  lift efficiency  lift motor efficiency  \\\n",
      "MSE               0.0              0.0                    0.0   \n",
      "MAE               0.0              0.0                    0.0   \n",
      "MAPE              0.0              0.0                    0.0   \n",
      "\n",
      "      lift power coefficient  propeller tip mach  lift tip mach  \n",
      "MSE                      0.0                 0.0            0.0  \n",
      "MAE                      0.0                 0.0            0.0  \n",
      "MAPE                     0.0                 0.0            0.0  \n"
     ]
    }
   ],
   "source": [
    "for key in result:\n",
    "    result_df = pd.DataFrame.from_dict(result[key]['electric_motor_and_propeller_efficiencies'])\n",
    "    print(\"**********\")\n",
    "    print(key)\n",
    "    print(result_df)"
   ]
  },
  {
   "cell_type": "markdown",
   "id": "36fb0ad8",
   "metadata": {},
   "source": [
    "# test"
   ]
  },
  {
   "cell_type": "code",
   "execution_count": 56,
   "id": "c293984e",
   "metadata": {},
   "outputs": [
    {
     "data": {
      "image/png": "[encoded data removed]",
      "text/plain": [
       "<Figure size 432x288 with 1 Axes>"
      ]
     },
     "metadata": {
      "needs_background": "light"
     },
     "output_type": "display_data"
    }
   ],
   "source": [
    "performances = ['flight_conditions', 'aircraft_electronics',\n",
    "                           'aerodynamic_coefficients', 'electric_motor_and_propeller_efficiencies']\n",
    "performance = 'aircraft_electronics'   \n",
    "indx = performances.index(performance)\n",
    "data_X = None\n",
    "data_Y = None\n",
    "for key in range(len(evtol_performance_data_dic)):\n",
    "    Y = None\n",
    "    y = evtol_performance_data_dic[key]['outputs'][indx]\n",
    "    for i in range(0,y.shape[0],8):\n",
    "        y_row = y.iloc[i:i+8].to_numpy()\n",
    "        y_row = y_row[:, 2:].astype('float64')\n",
    "        y_row = np.mean(y_row, axis=0)\n",
    "        if y_row[-1]==0:\n",
    "            Y = None\n",
    "            break\n",
    "        Y = y_row if Y is None else np.vstack((Y, y_row))\n",
    "    if Y is None:\n",
    "        continue\n",
    "    \n",
    "    X = None\n",
    "    x = evtol_performance_data_dic[key]['input']\n",
    "    evtol_type = evtol_performance_data_dic[key]['outputs'][0]['eVTOL_type'][0]\n",
    "    for i in range(x.shape[0]):\n",
    "        x_row = x.iloc[i].to_numpy()\n",
    "        x1 = get_one_hot_encode_evtol(evtol_type)\n",
    "        x2 = get_one_hot_encode_segment(x_row[0])\n",
    "        x3 = x_row[1:].astype('float64')\n",
    "        x_row = np.concatenate((x1,x2,x3))\n",
    "        X = x_row if X is None else np.vstack((X,x_row))\n",
    "    data_X = X if data_X is None else np.vstack((data_X, X))\n",
    "    data_Y = Y if data_Y is None else np.vstack((data_Y, Y))\n",
    "\n",
    "\n",
    "    \n",
    "#     yield X, Y"
   ]
  },
  {
   "cell_type": "code",
   "execution_count": 4,
   "id": "df217ae8",
   "metadata": {},
   "outputs": [
    {
     "name": "stdout",
     "output_type": "stream",
     "text": [
      "Python 3.7.5\r\n"
     ]
    }
   ],
   "source": [
    "!python3.7 --version"
   ]
  },
  {
   "cell_type": "code",
   "execution_count": 5,
   "id": "37427df6",
   "metadata": {},
   "outputs": [
    {
     "name": "stdout",
     "output_type": "stream",
     "text": [
      "3.7.5 (default, Feb 23 2021, 13:22:40) \n",
      "[GCC 8.4.0]\n"
     ]
    }
   ],
   "source": [
    "import sys\n",
    "print(sys.version)"
   ]
  },
  {
   "cell_type": "code",
   "execution_count": 11,
   "id": "f55d362c",
   "metadata": {},
   "outputs": [
    {
     "name": "stdout",
     "output_type": "stream",
     "text": [
      "[name: \"/device:CPU:0\"\n",
      "device_type: \"CPU\"\n",
      "memory_limit: 268435456\n",
      "locality {\n",
      "}\n",
      "incarnation: 1451593497158060229\n",
      "xla_global_id: -1\n",
      "]\n"
     ]
    },
    {
     "name": "stderr",
     "output_type": "stream",
     "text": [
      "2022-04-12 13:20:45.334966: I tensorflow/core/platform/cpu_feature_guard.cc:151] This TensorFlow binary is optimized with oneAPI Deep Neural Network Library (oneDNN) to use the following CPU instructions in performance-critical operations:  AVX2 FMA\n",
      "To enable them in other operations, rebuild TensorFlow with the appropriate compiler flags.\n",
      "2022-04-12 13:20:45.380113: E tensorflow/stream_executor/cuda/cuda_driver.cc:271] failed call to cuInit: CUDA_ERROR_NO_DEVICE: no CUDA-capable device is detected\n",
      "2022-04-12 13:20:45.380176: I tensorflow/stream_executor/cuda/cuda_diagnostics.cc:169] retrieving CUDA diagnostic information for host: ariac\n",
      "2022-04-12 13:20:45.380190: I tensorflow/stream_executor/cuda/cuda_diagnostics.cc:176] hostname: ariac\n",
      "2022-04-12 13:20:45.381072: I tensorflow/stream_executor/cuda/cuda_diagnostics.cc:200] libcuda reported version is: 510.47.3\n",
      "2022-04-12 13:20:45.381135: I tensorflow/stream_executor/cuda/cuda_diagnostics.cc:204] kernel reported version is: 455.45.1\n",
      "2022-04-12 13:20:45.381149: E tensorflow/stream_executor/cuda/cuda_diagnostics.cc:313] kernel version 455.45.1 does not match DSO version 510.47.3 -- cannot find working devices in this configuration\n"
     ]
    }
   ],
   "source": [
    "from tensorflow.python.client import device_lib\n",
    "print(device_lib.list_local_devices())"
   ]
  },
  {
   "cell_type": "code",
   "execution_count": null,
   "id": "49dd4021",
   "metadata": {},
   "outputs": [],
   "source": []
  }
 ],
 "metadata": {
  "kernelspec": {
   "display_name": "Python 3 (ipykernel)",
   "language": "python",
   "name": "python3"
  },
  "language_info": {
   "codemirror_mode": {
    "name": "ipython",
    "version": 3
   },
   "file_extension": ".py",
   "mimetype": "text/x-python",
   "name": "python",
   "nbconvert_exporter": "python",
   "pygments_lexer": "ipython3",
   "version": "3.7.5"
  }
 },
 "nbformat": 4,
 "nbformat_minor": 5
}
