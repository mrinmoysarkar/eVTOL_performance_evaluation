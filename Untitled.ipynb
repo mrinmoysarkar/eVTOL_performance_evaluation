{
 "cells": [
  {
   "cell_type": "code",
   "execution_count": 2,
   "id": "d145ee7d",
   "metadata": {},
   "outputs": [],
   "source": [
    "import pandas as pd\n",
    "import numpy as np\n",
    "import os\n",
    "import sys\n",
    "from sklearn.model_selection import train_test_split\n",
    "from copy import deepcopy"
   ]
  },
  {
   "cell_type": "code",
   "execution_count": null,
   "id": "aeb424cf",
   "metadata": {},
   "outputs": [
    {
     "name": "stdout",
     "output_type": "stream",
     "text": [
      "21600 5400\n"
     ]
    }
   ],
   "source": [
    "%%time\n",
    "profile_spec_path = './logs/profiles_eval/'\n",
    "# profile_spec_path = './logs/profiles_eval_sample/'\n",
    "performance_metrics = ['profile_flight_conditions_', 'profile_aircraft_electronics_',\n",
    "                       'profile_aerodynamic_coefficients_', \n",
    "                       'profile_electric_motor_and_propeller_efficiencies_']\n",
    "\n",
    "\n",
    "file_spec_names = []\n",
    "for root, dirs, files in os.walk(profile_spec_path):\n",
    "    for file in files:\n",
    "        if 'profile_spec' in file:\n",
    "            file_spec_names.append(file)\n",
    "\n",
    "train_files, test_files = train_test_split(file_spec_names, test_size=0.2)\n",
    "\n",
    "print(len(train_files), len(test_files))\n",
    "\n",
    "#create train dataset\n",
    "outputs = [None]*len(performance_metrics)\n",
    "inputs = None\n",
    "for file in train_files:\n",
    "    spec_num = file.split('_')[-1]\n",
    "    for pidx, performance_mat in enumerate(performance_metrics):\n",
    "        performance_path = os.path.join(root,performance_mat+spec_num)\n",
    "        if os.path.exists(performance_path):\n",
    "            try:\n",
    "                performance_df = pd.read_csv(performance_path)\n",
    "                outputs[pidx] = performance_df.copy() if outputs[pidx] is None \\\n",
    "                                else pd.concat([outputs[pidx], performance_df.copy()], ignore_index=True)\n",
    "            except:\n",
    "                print(performance_path)\n",
    "        else:\n",
    "            print(performance_path)\n",
    "    if outputs:\n",
    "        file_path = os.path.join(root, file)\n",
    "        spec_df = pd.read_csv(file_path)\n",
    "        inputs = spec_df.copy() if inputs is None \\\n",
    "                                else pd.concat([inputs, spec_df.copy()], ignore_index=True)\n",
    "\n",
    "inputs  = inputs.fillna(0)\n",
    "outputs = [o.fillna(0) for o in outputs]\n",
    "evtol_performance_data_dic = {'input':deepcopy(inputs), 'outputs':deepcopy(outputs)}\n",
    "\n",
    "    \n",
    "#create test dataset\n",
    "outputs = [None]*len(performance_metrics)\n",
    "inputs = None\n",
    "for file in test_files:\n",
    "    spec_num = file.split('_')[-1]\n",
    "    for pidx, performance_mat in enumerate(performance_metrics):\n",
    "        performance_path = os.path.join(root,performance_mat+spec_num)\n",
    "        if os.path.exists(performance_path):\n",
    "            try:\n",
    "                performance_df = pd.read_csv(performance_path)\n",
    "                outputs[pidx] = performance_df.copy() if outputs[pidx] is None \\\n",
    "                                else pd.concat([outputs[pidx], performance_df.copy()], ignore_index=True)\n",
    "            except:\n",
    "                print(performance_path)\n",
    "        else:\n",
    "            print(performance_path)\n",
    "    if outputs:\n",
    "        file_path = os.path.join(root, file)\n",
    "        spec_df = pd.read_csv(file_path)\n",
    "        inputs = spec_df.copy() if inputs is None \\\n",
    "                                else pd.concat([inputs, spec_df.copy()], ignore_index=True)\n",
    "\n",
    "inputs  = inputs.fillna(0)\n",
    "outputs = [o.fillna(0) for o in outputs]\n",
    "test_evtol_performance_data_dic = {'input':deepcopy(inputs), 'outputs':deepcopy(outputs)}\n",
    "\n",
    "print(evtol_performance_data_dic['input'].shape[0], \n",
    "      evtol_performance_data_dic['outputs'][0].shape[0])\n",
    "print(test_evtol_performance_data_dic['input'].shape[0], \n",
    "      test_evtol_performance_data_dic['outputs'][0].shape[0])\n"
   ]
  },
  {
   "cell_type": "code",
   "execution_count": 2,
   "id": "9ddbdc12",
   "metadata": {},
   "outputs": [],
   "source": [
    "df1 = pd.DataFrame({'a':[1,2,3],'b':[4,5,6]})"
   ]
  },
  {
   "cell_type": "code",
   "execution_count": 32,
   "id": "40eca483",
   "metadata": {},
   "outputs": [],
   "source": [
    "df2 = pd.DataFrame({'a':[1,2,3]})"
   ]
  },
  {
   "cell_type": "code",
   "execution_count": 33,
   "id": "e99f319e",
   "metadata": {},
   "outputs": [
    {
     "name": "stdout",
     "output_type": "stream",
     "text": [
      "   a  b\n",
      "0  1  4\n",
      "1  2  5\n",
      "2  3  6\n",
      "   a\n",
      "0  1\n",
      "1  2\n",
      "2  3\n"
     ]
    }
   ],
   "source": [
    "print(df1)\n",
    "print(df2)"
   ]
  },
  {
   "cell_type": "code",
   "execution_count": 28,
   "id": "52459a3b",
   "metadata": {},
   "outputs": [],
   "source": [
    "df3 = df1.merge(df2,on='a', how='outer')"
   ]
  },
  {
   "cell_type": "code",
   "execution_count": 29,
   "id": "35964b3e",
   "metadata": {},
   "outputs": [
    {
     "name": "stdout",
     "output_type": "stream",
     "text": [
      "   a    b\n",
      "0  1  4.0\n",
      "1  2  5.0\n",
      "2  3  6.0\n",
      "3  4  NaN\n",
      "4  5  NaN\n",
      "5  6  NaN\n"
     ]
    }
   ],
   "source": [
    "print(df3)"
   ]
  },
  {
   "cell_type": "code",
   "execution_count": 37,
   "id": "34e0d79a",
   "metadata": {},
   "outputs": [],
   "source": [
    "df3 = pd.concat([df1,df2], ignore_index=True)"
   ]
  },
  {
   "cell_type": "code",
   "execution_count": 38,
   "id": "b7c635dd",
   "metadata": {},
   "outputs": [
    {
     "name": "stdout",
     "output_type": "stream",
     "text": [
      "   a    b\n",
      "0  1  4.0\n",
      "1  2  5.0\n",
      "2  3  6.0\n",
      "3  1  NaN\n",
      "4  2  NaN\n",
      "5  3  NaN\n"
     ]
    }
   ],
   "source": [
    "print(df3)"
   ]
  },
  {
   "cell_type": "code",
   "execution_count": 36,
   "id": "c41e0355",
   "metadata": {},
   "outputs": [
    {
     "data": {
      "text/html": [
       "<div>\n",
       "<style scoped>\n",
       "    .dataframe tbody tr th:only-of-type {\n",
       "        vertical-align: middle;\n",
       "    }\n",
       "\n",
       "    .dataframe tbody tr th {\n",
       "        vertical-align: top;\n",
       "    }\n",
       "\n",
       "    .dataframe thead th {\n",
       "        text-align: right;\n",
       "    }\n",
       "</style>\n",
       "<table border=\"1\" class=\"dataframe\">\n",
       "  <thead>\n",
       "    <tr style=\"text-align: right;\">\n",
       "      <th></th>\n",
       "      <th>index</th>\n",
       "      <th>a</th>\n",
       "      <th>b</th>\n",
       "    </tr>\n",
       "  </thead>\n",
       "  <tbody>\n",
       "    <tr>\n",
       "      <th>0</th>\n",
       "      <td>0</td>\n",
       "      <td>1</td>\n",
       "      <td>4.0</td>\n",
       "    </tr>\n",
       "    <tr>\n",
       "      <th>1</th>\n",
       "      <td>1</td>\n",
       "      <td>2</td>\n",
       "      <td>5.0</td>\n",
       "    </tr>\n",
       "    <tr>\n",
       "      <th>2</th>\n",
       "      <td>2</td>\n",
       "      <td>3</td>\n",
       "      <td>6.0</td>\n",
       "    </tr>\n",
       "    <tr>\n",
       "      <th>3</th>\n",
       "      <td>0</td>\n",
       "      <td>1</td>\n",
       "      <td>NaN</td>\n",
       "    </tr>\n",
       "    <tr>\n",
       "      <th>4</th>\n",
       "      <td>1</td>\n",
       "      <td>2</td>\n",
       "      <td>NaN</td>\n",
       "    </tr>\n",
       "    <tr>\n",
       "      <th>5</th>\n",
       "      <td>2</td>\n",
       "      <td>3</td>\n",
       "      <td>NaN</td>\n",
       "    </tr>\n",
       "  </tbody>\n",
       "</table>\n",
       "</div>"
      ],
      "text/plain": [
       "   index  a    b\n",
       "0      0  1  4.0\n",
       "1      1  2  5.0\n",
       "2      2  3  6.0\n",
       "3      0  1  NaN\n",
       "4      1  2  NaN\n",
       "5      2  3  NaN"
      ]
     },
     "execution_count": 36,
     "metadata": {},
     "output_type": "execute_result"
    }
   ],
   "source": [
    "df3.reset_index()"
   ]
  },
  {
   "cell_type": "code",
   "execution_count": null,
   "id": "e7acf595",
   "metadata": {},
   "outputs": [],
   "source": []
  }
 ],
 "metadata": {
  "kernelspec": {
   "display_name": "Python 3 (ipykernel)",
   "language": "python",
   "name": "python3"
  },
  "language_info": {
   "codemirror_mode": {
    "name": "ipython",
    "version": 3
   },
   "file_extension": ".py",
   "mimetype": "text/x-python",
   "name": "python",
   "nbconvert_exporter": "python",
   "pygments_lexer": "ipython3",
   "version": "3.7.5"
  }
 },
 "nbformat": 4,
 "nbformat_minor": 5
}
